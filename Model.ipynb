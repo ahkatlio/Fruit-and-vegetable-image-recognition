{
 "cells": [
  {
   "cell_type": "code",
   "execution_count": 6,
   "id": "2d5d8735",
   "metadata": {},
   "outputs": [
    {
     "name": "stdout",
     "output_type": "stream",
     "text": [
      "Requirement already satisfied: ultralytics in c:\\users\\user\\appdata\\local\\packages\\pythonsoftwarefoundation.python.3.11_qbz5n2kfra8p0\\localcache\\local-packages\\python311\\site-packages (8.3.115)\n",
      "Requirement already satisfied: numpy<=2.1.1,>=1.23.0 in c:\\users\\user\\appdata\\local\\packages\\pythonsoftwarefoundation.python.3.11_qbz5n2kfra8p0\\localcache\\local-packages\\python311\\site-packages (from ultralytics) (2.0.2)\n",
      "Requirement already satisfied: matplotlib>=3.3.0 in c:\\users\\user\\appdata\\local\\packages\\pythonsoftwarefoundation.python.3.11_qbz5n2kfra8p0\\localcache\\local-packages\\python311\\site-packages (from ultralytics) (3.10.1)\n",
      "Requirement already satisfied: opencv-python>=4.6.0 in c:\\users\\user\\appdata\\local\\packages\\pythonsoftwarefoundation.python.3.11_qbz5n2kfra8p0\\localcache\\local-packages\\python311\\site-packages (from ultralytics) (4.10.0.84)\n",
      "Requirement already satisfied: pillow>=7.1.2 in c:\\users\\user\\appdata\\local\\packages\\pythonsoftwarefoundation.python.3.11_qbz5n2kfra8p0\\localcache\\local-packages\\python311\\site-packages (from ultralytics) (11.1.0)\n",
      "Requirement already satisfied: pyyaml>=5.3.1 in c:\\users\\user\\appdata\\local\\packages\\pythonsoftwarefoundation.python.3.11_qbz5n2kfra8p0\\localcache\\local-packages\\python311\\site-packages (from ultralytics) (6.0.2)\n",
      "Requirement already satisfied: requests>=2.23.0 in c:\\users\\user\\appdata\\local\\packages\\pythonsoftwarefoundation.python.3.11_qbz5n2kfra8p0\\localcache\\local-packages\\python311\\site-packages (from ultralytics) (2.32.3)\n",
      "Requirement already satisfied: scipy>=1.4.1 in c:\\users\\user\\appdata\\local\\packages\\pythonsoftwarefoundation.python.3.11_qbz5n2kfra8p0\\localcache\\local-packages\\python311\\site-packages (from ultralytics) (1.14.1)\n",
      "Requirement already satisfied: torch>=1.8.0 in c:\\users\\user\\appdata\\local\\packages\\pythonsoftwarefoundation.python.3.11_qbz5n2kfra8p0\\localcache\\local-packages\\python311\\site-packages (from ultralytics) (2.6.0)\n",
      "Requirement already satisfied: torchvision>=0.9.0 in c:\\users\\user\\appdata\\local\\packages\\pythonsoftwarefoundation.python.3.11_qbz5n2kfra8p0\\localcache\\local-packages\\python311\\site-packages (from ultralytics) (0.21.0)\n",
      "Requirement already satisfied: tqdm>=4.64.0 in c:\\users\\user\\appdata\\local\\packages\\pythonsoftwarefoundation.python.3.11_qbz5n2kfra8p0\\localcache\\local-packages\\python311\\site-packages (from ultralytics) (4.67.1)\n",
      "Requirement already satisfied: psutil in c:\\users\\user\\appdata\\local\\packages\\pythonsoftwarefoundation.python.3.11_qbz5n2kfra8p0\\localcache\\local-packages\\python311\\site-packages (from ultralytics) (6.1.0)\n",
      "Requirement already satisfied: py-cpuinfo in c:\\users\\user\\appdata\\local\\packages\\pythonsoftwarefoundation.python.3.11_qbz5n2kfra8p0\\localcache\\local-packages\\python311\\site-packages (from ultralytics) (9.0.0)\n",
      "Requirement already satisfied: pandas>=1.1.4 in c:\\users\\user\\appdata\\local\\packages\\pythonsoftwarefoundation.python.3.11_qbz5n2kfra8p0\\localcache\\local-packages\\python311\\site-packages (from ultralytics) (2.2.3)\n",
      "Requirement already satisfied: seaborn>=0.11.0 in c:\\users\\user\\appdata\\local\\packages\\pythonsoftwarefoundation.python.3.11_qbz5n2kfra8p0\\localcache\\local-packages\\python311\\site-packages (from ultralytics) (0.13.2)\n",
      "Requirement already satisfied: ultralytics-thop>=2.0.0 in c:\\users\\user\\appdata\\local\\packages\\pythonsoftwarefoundation.python.3.11_qbz5n2kfra8p0\\localcache\\local-packages\\python311\\site-packages (from ultralytics) (2.0.14)\n",
      "Requirement already satisfied: contourpy>=1.0.1 in c:\\users\\user\\appdata\\local\\packages\\pythonsoftwarefoundation.python.3.11_qbz5n2kfra8p0\\localcache\\local-packages\\python311\\site-packages (from matplotlib>=3.3.0->ultralytics) (1.3.1)\n",
      "Requirement already satisfied: cycler>=0.10 in c:\\users\\user\\appdata\\local\\packages\\pythonsoftwarefoundation.python.3.11_qbz5n2kfra8p0\\localcache\\local-packages\\python311\\site-packages (from matplotlib>=3.3.0->ultralytics) (0.12.1)\n",
      "Requirement already satisfied: fonttools>=4.22.0 in c:\\users\\user\\appdata\\local\\packages\\pythonsoftwarefoundation.python.3.11_qbz5n2kfra8p0\\localcache\\local-packages\\python311\\site-packages (from matplotlib>=3.3.0->ultralytics) (4.55.0)\n",
      "Requirement already satisfied: kiwisolver>=1.3.1 in c:\\users\\user\\appdata\\local\\packages\\pythonsoftwarefoundation.python.3.11_qbz5n2kfra8p0\\localcache\\local-packages\\python311\\site-packages (from matplotlib>=3.3.0->ultralytics) (1.4.7)\n",
      "Requirement already satisfied: packaging>=20.0 in c:\\users\\user\\appdata\\local\\packages\\pythonsoftwarefoundation.python.3.11_qbz5n2kfra8p0\\localcache\\local-packages\\python311\\site-packages (from matplotlib>=3.3.0->ultralytics) (24.2)\n",
      "Requirement already satisfied: pyparsing>=2.3.1 in c:\\users\\user\\appdata\\local\\packages\\pythonsoftwarefoundation.python.3.11_qbz5n2kfra8p0\\localcache\\local-packages\\python311\\site-packages (from matplotlib>=3.3.0->ultralytics) (3.2.0)\n",
      "Requirement already satisfied: python-dateutil>=2.7 in c:\\users\\user\\appdata\\local\\packages\\pythonsoftwarefoundation.python.3.11_qbz5n2kfra8p0\\localcache\\local-packages\\python311\\site-packages (from matplotlib>=3.3.0->ultralytics) (2.9.0.post0)\n",
      "Requirement already satisfied: pytz>=2020.1 in c:\\users\\user\\appdata\\local\\packages\\pythonsoftwarefoundation.python.3.11_qbz5n2kfra8p0\\localcache\\local-packages\\python311\\site-packages (from pandas>=1.1.4->ultralytics) (2024.2)\n",
      "Requirement already satisfied: tzdata>=2022.7 in c:\\users\\user\\appdata\\local\\packages\\pythonsoftwarefoundation.python.3.11_qbz5n2kfra8p0\\localcache\\local-packages\\python311\\site-packages (from pandas>=1.1.4->ultralytics) (2024.2)\n",
      "Requirement already satisfied: charset-normalizer<4,>=2 in c:\\users\\user\\appdata\\local\\packages\\pythonsoftwarefoundation.python.3.11_qbz5n2kfra8p0\\localcache\\local-packages\\python311\\site-packages (from requests>=2.23.0->ultralytics) (3.4.0)\n",
      "Requirement already satisfied: idna<4,>=2.5 in c:\\users\\user\\appdata\\local\\packages\\pythonsoftwarefoundation.python.3.11_qbz5n2kfra8p0\\localcache\\local-packages\\python311\\site-packages (from requests>=2.23.0->ultralytics) (3.10)\n",
      "Requirement already satisfied: urllib3<3,>=1.21.1 in c:\\users\\user\\appdata\\local\\packages\\pythonsoftwarefoundation.python.3.11_qbz5n2kfra8p0\\localcache\\local-packages\\python311\\site-packages (from requests>=2.23.0->ultralytics) (2.2.3)\n",
      "Requirement already satisfied: certifi>=2017.4.17 in c:\\users\\user\\appdata\\local\\packages\\pythonsoftwarefoundation.python.3.11_qbz5n2kfra8p0\\localcache\\local-packages\\python311\\site-packages (from requests>=2.23.0->ultralytics) (2024.8.30)\n",
      "Requirement already satisfied: filelock in c:\\users\\user\\appdata\\local\\packages\\pythonsoftwarefoundation.python.3.11_qbz5n2kfra8p0\\localcache\\local-packages\\python311\\site-packages (from torch>=1.8.0->ultralytics) (3.16.1)\n",
      "Requirement already satisfied: typing-extensions>=4.10.0 in c:\\users\\user\\appdata\\local\\packages\\pythonsoftwarefoundation.python.3.11_qbz5n2kfra8p0\\localcache\\local-packages\\python311\\site-packages (from torch>=1.8.0->ultralytics) (4.12.2)\n",
      "Requirement already satisfied: networkx in c:\\users\\user\\appdata\\local\\packages\\pythonsoftwarefoundation.python.3.11_qbz5n2kfra8p0\\localcache\\local-packages\\python311\\site-packages (from torch>=1.8.0->ultralytics) (3.4.2)\n",
      "Requirement already satisfied: jinja2 in c:\\users\\user\\appdata\\local\\packages\\pythonsoftwarefoundation.python.3.11_qbz5n2kfra8p0\\localcache\\local-packages\\python311\\site-packages (from torch>=1.8.0->ultralytics) (3.1.5)\n",
      "Requirement already satisfied: fsspec in c:\\users\\user\\appdata\\local\\packages\\pythonsoftwarefoundation.python.3.11_qbz5n2kfra8p0\\localcache\\local-packages\\python311\\site-packages (from torch>=1.8.0->ultralytics) (2024.12.0)\n",
      "Requirement already satisfied: sympy==1.13.1 in c:\\users\\user\\appdata\\local\\packages\\pythonsoftwarefoundation.python.3.11_qbz5n2kfra8p0\\localcache\\local-packages\\python311\\site-packages (from torch>=1.8.0->ultralytics) (1.13.1)\n",
      "Requirement already satisfied: mpmath<1.4,>=1.1.0 in c:\\users\\user\\appdata\\local\\packages\\pythonsoftwarefoundation.python.3.11_qbz5n2kfra8p0\\localcache\\local-packages\\python311\\site-packages (from sympy==1.13.1->torch>=1.8.0->ultralytics) (1.3.0)\n",
      "Requirement already satisfied: colorama in c:\\users\\user\\appdata\\local\\packages\\pythonsoftwarefoundation.python.3.11_qbz5n2kfra8p0\\localcache\\local-packages\\python311\\site-packages (from tqdm>=4.64.0->ultralytics) (0.4.6)\n",
      "Requirement already satisfied: six>=1.5 in c:\\users\\user\\appdata\\local\\packages\\pythonsoftwarefoundation.python.3.11_qbz5n2kfra8p0\\localcache\\local-packages\\python311\\site-packages (from python-dateutil>=2.7->matplotlib>=3.3.0->ultralytics) (1.16.0)\n",
      "Requirement already satisfied: MarkupSafe>=2.0 in c:\\users\\user\\appdata\\local\\packages\\pythonsoftwarefoundation.python.3.11_qbz5n2kfra8p0\\localcache\\local-packages\\python311\\site-packages (from jinja2->torch>=1.8.0->ultralytics) (3.0.2)\n"
     ]
    },
    {
     "name": "stderr",
     "output_type": "stream",
     "text": [
      "\n",
      "[notice] A new release of pip is available: 24.0 -> 25.0.1\n",
      "[notice] To update, run: C:\\Users\\USER\\AppData\\Local\\Microsoft\\WindowsApps\\PythonSoftwareFoundation.Python.3.11_qbz5n2kfra8p0\\python.exe -m pip install --upgrade pip\n"
     ]
    }
   ],
   "source": [
    "!pip install ultralytics"
   ]
  },
  {
   "cell_type": "markdown",
   "id": "e50e84c9",
   "metadata": {},
   "source": [
    "# **Libraries**"
   ]
  },
  {
   "cell_type": "code",
   "execution_count": 7,
   "id": "0eb214d9",
   "metadata": {},
   "outputs": [],
   "source": [
    "import os\n",
    "import shutil\n",
    "from rich.console import Console\n",
    "from rich.tree import Tree\n",
    "from rich.table import Table\n",
    "from rich.panel import Panel\n",
    "from rich.progress import track\n",
    "from rich.markdown import Markdown\n",
    "from rich.columns import Columns\n",
    "from rich.progress import Progress\n",
    "from collections import Counter\n",
    "import random\n",
    "from PIL import Image\n",
    "import pandas as pd\n",
    "import matplotlib.pyplot as plt\n",
    "import seaborn as sns\n",
    "from ultralytics import YOLO\n",
    "import numpy as np"
   ]
  },
  {
   "cell_type": "markdown",
   "id": "c7531c4c",
   "metadata": {},
   "source": [
    "# **Dataset Preview**"
   ]
  },
  {
   "cell_type": "code",
   "execution_count": 8,
   "id": "0d9555cb",
   "metadata": {},
   "outputs": [
    {
     "data": {
      "text/html": [
       "<pre style=\"white-space:pre;overflow-x:auto;line-height:normal;font-family:Menlo,'DejaVu Sans Mono',consolas,'Courier New',monospace\"><span style=\"color: #008000; text-decoration-color: #008000\">Reading class labels from </span>\n",
       "<span style=\"color: #008000; text-decoration-color: #008000\">e:\\AgriBot\\Fruit-and-vegetable-image-recognition\\complete_fruit_veg_dataset\\label_mapping.txt</span>\n",
       "</pre>\n"
      ],
      "text/plain": [
       "\u001b[32mReading class labels from \u001b[0m\n",
       "\u001b[32me:\\AgriBot\\Fruit-and-vegetable-image-recognition\\complete_fruit_veg_dataset\\label_mapping.txt\u001b[0m\n"
      ]
     },
     "metadata": {},
     "output_type": "display_data"
    },
    {
     "data": {
      "text/html": [
       "<pre style=\"white-space:pre;overflow-x:auto;line-height:normal;font-family:Menlo,'DejaVu Sans Mono',consolas,'Courier New',monospace\">                                          <span style=\"color: #000080; text-decoration-color: #000080; font-weight: bold\">Analyzing Dataset Structure...</span>                                           \n",
       "</pre>\n"
      ],
      "text/plain": [
       "                                          \u001b[1;34mAnalyzing Dataset Structure\u001b[0m\u001b[1;34m...\u001b[0m                                           \n"
      ]
     },
     "metadata": {},
     "output_type": "display_data"
    },
    {
     "data": {
      "text/html": [
       "<pre style=\"white-space:pre;overflow-x:auto;line-height:normal;font-family:Menlo,'DejaVu Sans Mono',consolas,'Courier New',monospace\">\n",
       "</pre>\n"
      ],
      "text/plain": [
       "\n"
      ]
     },
     "metadata": {},
     "output_type": "display_data"
    },
    {
     "data": {
      "text/html": [
       "<pre style=\"white-space:pre;overflow-x:auto;line-height:normal;font-family:Menlo,'DejaVu Sans Mono',consolas,'Courier New',monospace\">╭─────────────────────────────────────────────────────────────────────────────────────────────────────────────────╮\n",
       "│ <span style=\"color: #008000; text-decoration-color: #008000; font-weight: bold\">📁 complete_fruit_veg_dataset</span>                                                                                   │\n",
       "│ ├── <span style=\"color: #808000; text-decoration-color: #808000; font-weight: bold\">📁 train</span>                                                                                                    │\n",
       "│ │   ├── 📁 <span style=\"color: #008080; text-decoration-color: #008080; font-weight: bold\">class_0 (apple)</span> (52 files)                                                                           │\n",
       "│ │   │   └── 📄 ... (52 files)                                                                                   │\n",
       "│ │   ├── 📁 <span style=\"color: #008080; text-decoration-color: #008080; font-weight: bold\">class_1 (banana)</span> (55 files)                                                                          │\n",
       "│ │   │   └── 📄 ... (55 files)                                                                                   │\n",
       "│ │   ├── 📁 <span style=\"color: #008080; text-decoration-color: #008080; font-weight: bold\">class_10 (cucumber)</span> (69 files)                                                                       │\n",
       "│ │   │   └── 📄 ... (69 files)                                                                                   │\n",
       "│ │   ├── 📁 <span style=\"color: #008080; text-decoration-color: #008080; font-weight: bold\">class_11 (eggplant)</span> (70 files)                                                                       │\n",
       "│ │   │   └── 📄 ... (70 files)                                                                                   │\n",
       "│ │   ├── 📁 <span style=\"color: #008080; text-decoration-color: #008080; font-weight: bold\">class_12 (garlic)</span> (76 files)                                                                         │\n",
       "│ │   │   └── 📄 ... (76 files)                                                                                   │\n",
       "│ │   ├── 📁 <span style=\"color: #008080; text-decoration-color: #008080; font-weight: bold\">class_13 (ginger)</span> (53 files)                                                                         │\n",
       "│ │   │   └── 📄 ... (53 files)                                                                                   │\n",
       "│ │   ├── 📁 <span style=\"color: #008080; text-decoration-color: #008080; font-weight: bold\">class_14 (grapes)</span> (78 files)                                                                         │\n",
       "│ │   │   └── 📄 ... (78 files)                                                                                   │\n",
       "│ │   ├── 📁 <span style=\"color: #008080; text-decoration-color: #008080; font-weight: bold\">class_15 (jalepeno)</span> (73 files)                                                                       │\n",
       "│ │   │   └── 📄 ... (73 files)                                                                                   │\n",
       "│ │   ├── 📁 <span style=\"color: #008080; text-decoration-color: #008080; font-weight: bold\">class_16 (kiwi)</span> (73 files)                                                                           │\n",
       "│ │   │   └── 📄 ... (73 files)                                                                                   │\n",
       "│ │   ├── 📁 <span style=\"color: #008080; text-decoration-color: #008080; font-weight: bold\">class_17 (lemon)</span> (64 files)                                                                          │\n",
       "│ │   │   └── 📄 ... (64 files)                                                                                   │\n",
       "│ │   ├── 📁 <span style=\"color: #008080; text-decoration-color: #008080; font-weight: bold\">class_18 (lettuce)</span> (77 files)                                                                        │\n",
       "│ │   │   └── 📄 ... (77 files)                                                                                   │\n",
       "│ │   ├── 📁 <span style=\"color: #008080; text-decoration-color: #008080; font-weight: bold\">class_19 (mango)</span> (68 files)                                                                          │\n",
       "│ │   │   └── 📄 ... (68 files)                                                                                   │\n",
       "│ │   ├── 📁 <span style=\"color: #008080; text-decoration-color: #008080; font-weight: bold\">class_2 (beetroot)</span> (73 files)                                                                        │\n",
       "│ │   │   └── 📄 ... (73 files)                                                                                   │\n",
       "│ │   ├── 📁 <span style=\"color: #008080; text-decoration-color: #008080; font-weight: bold\">class_20 (onion)</span> (75 files)                                                                          │\n",
       "│ │   │   └── 📄 ... (75 files)                                                                                   │\n",
       "│ │   ├── 📁 <span style=\"color: #008080; text-decoration-color: #008080; font-weight: bold\">class_21 (orange)</span> (56 files)                                                                         │\n",
       "│ │   │   └── 📄 ... (56 files)                                                                                   │\n",
       "│ │   ├── 📁 <span style=\"color: #008080; text-decoration-color: #008080; font-weight: bold\">class_22 (paprika)</span> (69 files)                                                                        │\n",
       "│ │   │   └── 📄 ... (69 files)                                                                                   │\n",
       "│ │   ├── 📁 <span style=\"color: #008080; text-decoration-color: #008080; font-weight: bold\">class_23 (pear)</span> (73 files)                                                                           │\n",
       "│ │   │   └── 📄 ... (73 files)                                                                                   │\n",
       "│ │   ├── 📁 <span style=\"color: #008080; text-decoration-color: #008080; font-weight: bold\">class_24 (peas)</span> (82 files)                                                                           │\n",
       "│ │   │   └── 📄 ... (82 files)                                                                                   │\n",
       "│ │   ├── 📁 <span style=\"color: #008080; text-decoration-color: #008080; font-weight: bold\">class_25 (pineapple)</span> (80 files)                                                                      │\n",
       "│ │   │   └── 📄 ... (80 files)                                                                                   │\n",
       "│ │   ├── 📁 <span style=\"color: #008080; text-decoration-color: #008080; font-weight: bold\">class_26 (pomegranate)</span> (68 files)                                                                    │\n",
       "│ │   │   └── 📄 ... (68 files)                                                                                   │\n",
       "│ │   ├── 📁 <span style=\"color: #008080; text-decoration-color: #008080; font-weight: bold\">class_27 (potato)</span> (60 files)                                                                         │\n",
       "│ │   │   └── 📄 ... (60 files)                                                                                   │\n",
       "│ │   ├── 📁 <span style=\"color: #008080; text-decoration-color: #008080; font-weight: bold\">class_28 (raddish)</span> (63 files)                                                                        │\n",
       "│ │   │   └── 📄 ... (63 files)                                                                                   │\n",
       "│ │   ├── 📁 <span style=\"color: #008080; text-decoration-color: #008080; font-weight: bold\">class_29 (soy beans)</span> (78 files)                                                                      │\n",
       "│ │   │   └── 📄 ... (78 files)                                                                                   │\n",
       "│ │   ├── 📁 <span style=\"color: #008080; text-decoration-color: #008080; font-weight: bold\">class_3 (bell pepper)</span> (75 files)                                                                     │\n",
       "│ │   │   └── 📄 ... (75 files)                                                                                   │\n",
       "│ │   ├── 📁 <span style=\"color: #008080; text-decoration-color: #008080; font-weight: bold\">class_30 (spinach)</span> (71 files)                                                                        │\n",
       "│ │   │   └── 📄 ... (71 files)                                                                                   │\n",
       "│ │   ├── 📁 <span style=\"color: #008080; text-decoration-color: #008080; font-weight: bold\">class_31 (sweetcorn)</span> (80 files)                                                                      │\n",
       "│ │   │   └── 📄 ... (80 files)                                                                                   │\n",
       "│ │   ├── 📁 <span style=\"color: #008080; text-decoration-color: #008080; font-weight: bold\">class_32 (sweetpotato)</span> (56 files)                                                                    │\n",
       "│ │   │   └── 📄 ... (56 files)                                                                                   │\n",
       "│ │   ├── 📁 <span style=\"color: #008080; text-decoration-color: #008080; font-weight: bold\">class_33 (tomato)</span> (70 files)                                                                         │\n",
       "│ │   │   └── 📄 ... (70 files)                                                                                   │\n",
       "│ │   ├── 📁 <span style=\"color: #008080; text-decoration-color: #008080; font-weight: bold\">class_34 (turnip)</span> (82 files)                                                                         │\n",
       "│ │   │   └── 📄 ... (82 files)                                                                                   │\n",
       "│ │   ├── 📁 <span style=\"color: #008080; text-decoration-color: #008080; font-weight: bold\">class_35 (watermelon)</span> (61 files)                                                                     │\n",
       "│ │   │   └── 📄 ... (61 files)                                                                                   │\n",
       "│ │   ├── 📁 <span style=\"color: #008080; text-decoration-color: #008080; font-weight: bold\">class_4 (cabbage)</span> (74 files)                                                                         │\n",
       "│ │   │   └── 📄 ... (74 files)                                                                                   │\n",
       "│ │   ├── 📁 <span style=\"color: #008080; text-decoration-color: #008080; font-weight: bold\">class_5 (capsicum)</span> (72 files)                                                                        │\n",
       "│ │   │   └── 📄 ... (72 files)                                                                                   │\n",
       "│ │   ├── 📁 <span style=\"color: #008080; text-decoration-color: #008080; font-weight: bold\">class_6 (carrot)</span> (67 files)                                                                          │\n",
       "│ │   │   └── 📄 ... (67 files)                                                                                   │\n",
       "│ │   ├── 📁 <span style=\"color: #008080; text-decoration-color: #008080; font-weight: bold\">class_7 (cauliflower)</span> (65 files)                                                                     │\n",
       "│ │   │   └── 📄 ... (65 files)                                                                                   │\n",
       "│ │   ├── 📁 <span style=\"color: #008080; text-decoration-color: #008080; font-weight: bold\">class_8 (chilli pepper)</span> (68 files)                                                                   │\n",
       "│ │   │   └── 📄 ... (68 files)                                                                                   │\n",
       "│ │   └── 📁 <span style=\"color: #008080; text-decoration-color: #008080; font-weight: bold\">class_9 (corn)</span> (66 files)                                                                            │\n",
       "│ │       └── 📄 ... (66 files)                                                                                   │\n",
       "│ └── <span style=\"color: #808000; text-decoration-color: #808000; font-weight: bold\">📁 test</span>                                                                                                     │\n",
       "│     ├── 📁 <span style=\"color: #008080; text-decoration-color: #008080; font-weight: bold\">class_0 (apple)</span> (16 files)                                                                           │\n",
       "│     │   └── 📄 ... (16 files)                                                                                   │\n",
       "│     ├── 📁 <span style=\"color: #008080; text-decoration-color: #008080; font-weight: bold\">class_1 (banana)</span> (20 files)                                                                          │\n",
       "│     │   └── 📄 ... (20 files)                                                                                   │\n",
       "│     ├── 📁 <span style=\"color: #008080; text-decoration-color: #008080; font-weight: bold\">class_10 (cucumber)</span> (25 files)                                                                       │\n",
       "│     │   └── 📄 ... (25 files)                                                                                   │\n",
       "│     ├── 📁 <span style=\"color: #008080; text-decoration-color: #008080; font-weight: bold\">class_11 (eggplant)</span> (14 files)                                                                       │\n",
       "│     │   └── 📄 ... (14 files)                                                                                   │\n",
       "│     ├── 📁 <span style=\"color: #008080; text-decoration-color: #008080; font-weight: bold\">class_12 (garlic)</span> (16 files)                                                                         │\n",
       "│     │   └── 📄 ... (16 files)                                                                                   │\n",
       "│     ├── 📁 <span style=\"color: #008080; text-decoration-color: #008080; font-weight: bold\">class_13 (ginger)</span> (15 files)                                                                         │\n",
       "│     │   └── 📄 ... (15 files)                                                                                   │\n",
       "│     ├── 📁 <span style=\"color: #008080; text-decoration-color: #008080; font-weight: bold\">class_14 (grapes)</span> (22 files)                                                                         │\n",
       "│     │   └── 📄 ... (22 files)                                                                                   │\n",
       "│     ├── 📁 <span style=\"color: #008080; text-decoration-color: #008080; font-weight: bold\">class_15 (jalepeno)</span> (15 files)                                                                       │\n",
       "│     │   └── 📄 ... (15 files)                                                                                   │\n",
       "│     ├── 📁 <span style=\"color: #008080; text-decoration-color: #008080; font-weight: bold\">class_16 (kiwi)</span> (15 files)                                                                           │\n",
       "│     │   └── 📄 ... (15 files)                                                                                   │\n",
       "│     ├── 📁 <span style=\"color: #008080; text-decoration-color: #008080; font-weight: bold\">class_17 (lemon)</span> (18 files)                                                                          │\n",
       "│     │   └── 📄 ... (18 files)                                                                                   │\n",
       "│     ├── 📁 <span style=\"color: #008080; text-decoration-color: #008080; font-weight: bold\">class_18 (lettuce)</span> (20 files)                                                                        │\n",
       "│     │   └── 📄 ... (20 files)                                                                                   │\n",
       "│     ├── 📁 <span style=\"color: #008080; text-decoration-color: #008080; font-weight: bold\">class_19 (mango)</span> (18 files)                                                                          │\n",
       "│     │   └── 📄 ... (18 files)                                                                                   │\n",
       "│     ├── 📁 <span style=\"color: #008080; text-decoration-color: #008080; font-weight: bold\">class_2 (beetroot)</span> (15 files)                                                                        │\n",
       "│     │   └── 📄 ... (15 files)                                                                                   │\n",
       "│     ├── 📁 <span style=\"color: #008080; text-decoration-color: #008080; font-weight: bold\">class_20 (onion)</span> (19 files)                                                                          │\n",
       "│     │   └── 📄 ... (19 files)                                                                                   │\n",
       "│     ├── 📁 <span style=\"color: #008080; text-decoration-color: #008080; font-weight: bold\">class_21 (orange)</span> (13 files)                                                                         │\n",
       "│     │   └── 📄 ... (13 files)                                                                                   │\n",
       "│     ├── 📁 <span style=\"color: #008080; text-decoration-color: #008080; font-weight: bold\">class_22 (paprika)</span> (14 files)                                                                        │\n",
       "│     │   └── 📄 ... (14 files)                                                                                   │\n",
       "│     ├── 📁 <span style=\"color: #008080; text-decoration-color: #008080; font-weight: bold\">class_23 (pear)</span> (16 files)                                                                           │\n",
       "│     │   └── 📄 ... (16 files)                                                                                   │\n",
       "│     ├── 📁 <span style=\"color: #008080; text-decoration-color: #008080; font-weight: bold\">class_24 (peas)</span> (18 files)                                                                           │\n",
       "│     │   └── 📄 ... (18 files)                                                                                   │\n",
       "│     ├── 📁 <span style=\"color: #008080; text-decoration-color: #008080; font-weight: bold\">class_25 (pineapple)</span> (19 files)                                                                      │\n",
       "│     │   └── 📄 ... (19 files)                                                                                   │\n",
       "│     ├── 📁 <span style=\"color: #008080; text-decoration-color: #008080; font-weight: bold\">class_26 (pomegranate)</span> (11 files)                                                                    │\n",
       "│     │   └── 📄 ... (11 files)                                                                                   │\n",
       "│     ├── 📁 <span style=\"color: #008080; text-decoration-color: #008080; font-weight: bold\">class_27 (potato)</span> (17 files)                                                                         │\n",
       "│     │   └── 📄 ... (17 files)                                                                                   │\n",
       "│     ├── 📁 <span style=\"color: #008080; text-decoration-color: #008080; font-weight: bold\">class_28 (raddish)</span> (18 files)                                                                        │\n",
       "│     │   └── 📄 ... (18 files)                                                                                   │\n",
       "│     ├── 📁 <span style=\"color: #008080; text-decoration-color: #008080; font-weight: bold\">class_29 (soy beans)</span> (19 files)                                                                      │\n",
       "│     │   └── 📄 ... (19 files)                                                                                   │\n",
       "│     ├── 📁 <span style=\"color: #008080; text-decoration-color: #008080; font-weight: bold\">class_3 (bell pepper)</span> (15 files)                                                                     │\n",
       "│     │   └── 📄 ... (15 files)                                                                                   │\n",
       "│     ├── 📁 <span style=\"color: #008080; text-decoration-color: #008080; font-weight: bold\">class_30 (spinach)</span> (26 files)                                                                        │\n",
       "│     │   └── 📄 ... (26 files)                                                                                   │\n",
       "│     ├── 📁 <span style=\"color: #008080; text-decoration-color: #008080; font-weight: bold\">class_31 (sweetcorn)</span> (11 files)                                                                      │\n",
       "│     │   └── 📄 ... (11 files)                                                                                   │\n",
       "│     ├── 📁 <span style=\"color: #008080; text-decoration-color: #008080; font-weight: bold\">class_32 (sweetpotato)</span> (13 files)                                                                    │\n",
       "│     │   └── 📄 ... (13 files)                                                                                   │\n",
       "│     ├── 📁 <span style=\"color: #008080; text-decoration-color: #008080; font-weight: bold\">class_33 (tomato)</span> (22 files)                                                                         │\n",
       "│     │   └── 📄 ... (22 files)                                                                                   │\n",
       "│     ├── 📁 <span style=\"color: #008080; text-decoration-color: #008080; font-weight: bold\">class_34 (turnip)</span> (16 files)                                                                         │\n",
       "│     │   └── 📄 ... (16 files)                                                                                   │\n",
       "│     ├── 📁 <span style=\"color: #008080; text-decoration-color: #008080; font-weight: bold\">class_35 (watermelon)</span> (23 files)                                                                     │\n",
       "│     │   └── 📄 ... (23 files)                                                                                   │\n",
       "│     ├── 📁 <span style=\"color: #008080; text-decoration-color: #008080; font-weight: bold\">class_4 (cabbage)</span> (18 files)                                                                         │\n",
       "│     │   └── 📄 ... (18 files)                                                                                   │\n",
       "│     ├── 📁 <span style=\"color: #008080; text-decoration-color: #008080; font-weight: bold\">class_5 (capsicum)</span> (17 files)                                                                        │\n",
       "│     │   └── 📄 ... (17 files)                                                                                   │\n",
       "│     ├── 📁 <span style=\"color: #008080; text-decoration-color: #008080; font-weight: bold\">class_6 (carrot)</span> (15 files)                                                                          │\n",
       "│     │   └── 📄 ... (15 files)                                                                                   │\n",
       "│     ├── 📁 <span style=\"color: #008080; text-decoration-color: #008080; font-weight: bold\">class_7 (cauliflower)</span> (14 files)                                                                     │\n",
       "│     │   └── 📄 ... (14 files)                                                                                   │\n",
       "│     ├── 📁 <span style=\"color: #008080; text-decoration-color: #008080; font-weight: bold\">class_8 (chilli pepper)</span> (19 files)                                                                   │\n",
       "│     │   └── 📄 ... (19 files)                                                                                   │\n",
       "│     └── 📁 <span style=\"color: #008080; text-decoration-color: #008080; font-weight: bold\">class_9 (corn)</span> (21 files)                                                                            │\n",
       "│         └── 📄 ... (21 files)                                                                                   │\n",
       "╰─────────────────────────────────────────────────────────────────────────────────────────────────────────────────╯\n",
       "</pre>\n"
      ],
      "text/plain": [
       "╭─────────────────────────────────────────────────────────────────────────────────────────────────────────────────╮\n",
       "│ \u001b[1;32m📁 complete_fruit_veg_dataset\u001b[0m                                                                                   │\n",
       "│ ├── \u001b[1;33m📁 train\u001b[0m                                                                                                    │\n",
       "│ │   ├── 📁 \u001b[1;36mclass_0 (apple)\u001b[0m (52 files)                                                                           │\n",
       "│ │   │   └── 📄 ... (52 files)                                                                                   │\n",
       "│ │   ├── 📁 \u001b[1;36mclass_1 (banana)\u001b[0m (55 files)                                                                          │\n",
       "│ │   │   └── 📄 ... (55 files)                                                                                   │\n",
       "│ │   ├── 📁 \u001b[1;36mclass_10 (cucumber)\u001b[0m (69 files)                                                                       │\n",
       "│ │   │   └── 📄 ... (69 files)                                                                                   │\n",
       "│ │   ├── 📁 \u001b[1;36mclass_11 (eggplant)\u001b[0m (70 files)                                                                       │\n",
       "│ │   │   └── 📄 ... (70 files)                                                                                   │\n",
       "│ │   ├── 📁 \u001b[1;36mclass_12 (garlic)\u001b[0m (76 files)                                                                         │\n",
       "│ │   │   └── 📄 ... (76 files)                                                                                   │\n",
       "│ │   ├── 📁 \u001b[1;36mclass_13 (ginger)\u001b[0m (53 files)                                                                         │\n",
       "│ │   │   └── 📄 ... (53 files)                                                                                   │\n",
       "│ │   ├── 📁 \u001b[1;36mclass_14 (grapes)\u001b[0m (78 files)                                                                         │\n",
       "│ │   │   └── 📄 ... (78 files)                                                                                   │\n",
       "│ │   ├── 📁 \u001b[1;36mclass_15 (jalepeno)\u001b[0m (73 files)                                                                       │\n",
       "│ │   │   └── 📄 ... (73 files)                                                                                   │\n",
       "│ │   ├── 📁 \u001b[1;36mclass_16 (kiwi)\u001b[0m (73 files)                                                                           │\n",
       "│ │   │   └── 📄 ... (73 files)                                                                                   │\n",
       "│ │   ├── 📁 \u001b[1;36mclass_17 (lemon)\u001b[0m (64 files)                                                                          │\n",
       "│ │   │   └── 📄 ... (64 files)                                                                                   │\n",
       "│ │   ├── 📁 \u001b[1;36mclass_18 (lettuce)\u001b[0m (77 files)                                                                        │\n",
       "│ │   │   └── 📄 ... (77 files)                                                                                   │\n",
       "│ │   ├── 📁 \u001b[1;36mclass_19 (mango)\u001b[0m (68 files)                                                                          │\n",
       "│ │   │   └── 📄 ... (68 files)                                                                                   │\n",
       "│ │   ├── 📁 \u001b[1;36mclass_2 (beetroot)\u001b[0m (73 files)                                                                        │\n",
       "│ │   │   └── 📄 ... (73 files)                                                                                   │\n",
       "│ │   ├── 📁 \u001b[1;36mclass_20 (onion)\u001b[0m (75 files)                                                                          │\n",
       "│ │   │   └── 📄 ... (75 files)                                                                                   │\n",
       "│ │   ├── 📁 \u001b[1;36mclass_21 (orange)\u001b[0m (56 files)                                                                         │\n",
       "│ │   │   └── 📄 ... (56 files)                                                                                   │\n",
       "│ │   ├── 📁 \u001b[1;36mclass_22 (paprika)\u001b[0m (69 files)                                                                        │\n",
       "│ │   │   └── 📄 ... (69 files)                                                                                   │\n",
       "│ │   ├── 📁 \u001b[1;36mclass_23 (pear)\u001b[0m (73 files)                                                                           │\n",
       "│ │   │   └── 📄 ... (73 files)                                                                                   │\n",
       "│ │   ├── 📁 \u001b[1;36mclass_24 (peas)\u001b[0m (82 files)                                                                           │\n",
       "│ │   │   └── 📄 ... (82 files)                                                                                   │\n",
       "│ │   ├── 📁 \u001b[1;36mclass_25 (pineapple)\u001b[0m (80 files)                                                                      │\n",
       "│ │   │   └── 📄 ... (80 files)                                                                                   │\n",
       "│ │   ├── 📁 \u001b[1;36mclass_26 (pomegranate)\u001b[0m (68 files)                                                                    │\n",
       "│ │   │   └── 📄 ... (68 files)                                                                                   │\n",
       "│ │   ├── 📁 \u001b[1;36mclass_27 (potato)\u001b[0m (60 files)                                                                         │\n",
       "│ │   │   └── 📄 ... (60 files)                                                                                   │\n",
       "│ │   ├── 📁 \u001b[1;36mclass_28 (raddish)\u001b[0m (63 files)                                                                        │\n",
       "│ │   │   └── 📄 ... (63 files)                                                                                   │\n",
       "│ │   ├── 📁 \u001b[1;36mclass_29 (soy beans)\u001b[0m (78 files)                                                                      │\n",
       "│ │   │   └── 📄 ... (78 files)                                                                                   │\n",
       "│ │   ├── 📁 \u001b[1;36mclass_3 (bell pepper)\u001b[0m (75 files)                                                                     │\n",
       "│ │   │   └── 📄 ... (75 files)                                                                                   │\n",
       "│ │   ├── 📁 \u001b[1;36mclass_30 (spinach)\u001b[0m (71 files)                                                                        │\n",
       "│ │   │   └── 📄 ... (71 files)                                                                                   │\n",
       "│ │   ├── 📁 \u001b[1;36mclass_31 (sweetcorn)\u001b[0m (80 files)                                                                      │\n",
       "│ │   │   └── 📄 ... (80 files)                                                                                   │\n",
       "│ │   ├── 📁 \u001b[1;36mclass_32 (sweetpotato)\u001b[0m (56 files)                                                                    │\n",
       "│ │   │   └── 📄 ... (56 files)                                                                                   │\n",
       "│ │   ├── 📁 \u001b[1;36mclass_33 (tomato)\u001b[0m (70 files)                                                                         │\n",
       "│ │   │   └── 📄 ... (70 files)                                                                                   │\n",
       "│ │   ├── 📁 \u001b[1;36mclass_34 (turnip)\u001b[0m (82 files)                                                                         │\n",
       "│ │   │   └── 📄 ... (82 files)                                                                                   │\n",
       "│ │   ├── 📁 \u001b[1;36mclass_35 (watermelon)\u001b[0m (61 files)                                                                     │\n",
       "│ │   │   └── 📄 ... (61 files)                                                                                   │\n",
       "│ │   ├── 📁 \u001b[1;36mclass_4 (cabbage)\u001b[0m (74 files)                                                                         │\n",
       "│ │   │   └── 📄 ... (74 files)                                                                                   │\n",
       "│ │   ├── 📁 \u001b[1;36mclass_5 (capsicum)\u001b[0m (72 files)                                                                        │\n",
       "│ │   │   └── 📄 ... (72 files)                                                                                   │\n",
       "│ │   ├── 📁 \u001b[1;36mclass_6 (carrot)\u001b[0m (67 files)                                                                          │\n",
       "│ │   │   └── 📄 ... (67 files)                                                                                   │\n",
       "│ │   ├── 📁 \u001b[1;36mclass_7 (cauliflower)\u001b[0m (65 files)                                                                     │\n",
       "│ │   │   └── 📄 ... (65 files)                                                                                   │\n",
       "│ │   ├── 📁 \u001b[1;36mclass_8 (chilli pepper)\u001b[0m (68 files)                                                                   │\n",
       "│ │   │   └── 📄 ... (68 files)                                                                                   │\n",
       "│ │   └── 📁 \u001b[1;36mclass_9 (corn)\u001b[0m (66 files)                                                                            │\n",
       "│ │       └── 📄 ... (66 files)                                                                                   │\n",
       "│ └── \u001b[1;33m📁 test\u001b[0m                                                                                                     │\n",
       "│     ├── 📁 \u001b[1;36mclass_0 (apple)\u001b[0m (16 files)                                                                           │\n",
       "│     │   └── 📄 ... (16 files)                                                                                   │\n",
       "│     ├── 📁 \u001b[1;36mclass_1 (banana)\u001b[0m (20 files)                                                                          │\n",
       "│     │   └── 📄 ... (20 files)                                                                                   │\n",
       "│     ├── 📁 \u001b[1;36mclass_10 (cucumber)\u001b[0m (25 files)                                                                       │\n",
       "│     │   └── 📄 ... (25 files)                                                                                   │\n",
       "│     ├── 📁 \u001b[1;36mclass_11 (eggplant)\u001b[0m (14 files)                                                                       │\n",
       "│     │   └── 📄 ... (14 files)                                                                                   │\n",
       "│     ├── 📁 \u001b[1;36mclass_12 (garlic)\u001b[0m (16 files)                                                                         │\n",
       "│     │   └── 📄 ... (16 files)                                                                                   │\n",
       "│     ├── 📁 \u001b[1;36mclass_13 (ginger)\u001b[0m (15 files)                                                                         │\n",
       "│     │   └── 📄 ... (15 files)                                                                                   │\n",
       "│     ├── 📁 \u001b[1;36mclass_14 (grapes)\u001b[0m (22 files)                                                                         │\n",
       "│     │   └── 📄 ... (22 files)                                                                                   │\n",
       "│     ├── 📁 \u001b[1;36mclass_15 (jalepeno)\u001b[0m (15 files)                                                                       │\n",
       "│     │   └── 📄 ... (15 files)                                                                                   │\n",
       "│     ├── 📁 \u001b[1;36mclass_16 (kiwi)\u001b[0m (15 files)                                                                           │\n",
       "│     │   └── 📄 ... (15 files)                                                                                   │\n",
       "│     ├── 📁 \u001b[1;36mclass_17 (lemon)\u001b[0m (18 files)                                                                          │\n",
       "│     │   └── 📄 ... (18 files)                                                                                   │\n",
       "│     ├── 📁 \u001b[1;36mclass_18 (lettuce)\u001b[0m (20 files)                                                                        │\n",
       "│     │   └── 📄 ... (20 files)                                                                                   │\n",
       "│     ├── 📁 \u001b[1;36mclass_19 (mango)\u001b[0m (18 files)                                                                          │\n",
       "│     │   └── 📄 ... (18 files)                                                                                   │\n",
       "│     ├── 📁 \u001b[1;36mclass_2 (beetroot)\u001b[0m (15 files)                                                                        │\n",
       "│     │   └── 📄 ... (15 files)                                                                                   │\n",
       "│     ├── 📁 \u001b[1;36mclass_20 (onion)\u001b[0m (19 files)                                                                          │\n",
       "│     │   └── 📄 ... (19 files)                                                                                   │\n",
       "│     ├── 📁 \u001b[1;36mclass_21 (orange)\u001b[0m (13 files)                                                                         │\n",
       "│     │   └── 📄 ... (13 files)                                                                                   │\n",
       "│     ├── 📁 \u001b[1;36mclass_22 (paprika)\u001b[0m (14 files)                                                                        │\n",
       "│     │   └── 📄 ... (14 files)                                                                                   │\n",
       "│     ├── 📁 \u001b[1;36mclass_23 (pear)\u001b[0m (16 files)                                                                           │\n",
       "│     │   └── 📄 ... (16 files)                                                                                   │\n",
       "│     ├── 📁 \u001b[1;36mclass_24 (peas)\u001b[0m (18 files)                                                                           │\n",
       "│     │   └── 📄 ... (18 files)                                                                                   │\n",
       "│     ├── 📁 \u001b[1;36mclass_25 (pineapple)\u001b[0m (19 files)                                                                      │\n",
       "│     │   └── 📄 ... (19 files)                                                                                   │\n",
       "│     ├── 📁 \u001b[1;36mclass_26 (pomegranate)\u001b[0m (11 files)                                                                    │\n",
       "│     │   └── 📄 ... (11 files)                                                                                   │\n",
       "│     ├── 📁 \u001b[1;36mclass_27 (potato)\u001b[0m (17 files)                                                                         │\n",
       "│     │   └── 📄 ... (17 files)                                                                                   │\n",
       "│     ├── 📁 \u001b[1;36mclass_28 (raddish)\u001b[0m (18 files)                                                                        │\n",
       "│     │   └── 📄 ... (18 files)                                                                                   │\n",
       "│     ├── 📁 \u001b[1;36mclass_29 (soy beans)\u001b[0m (19 files)                                                                      │\n",
       "│     │   └── 📄 ... (19 files)                                                                                   │\n",
       "│     ├── 📁 \u001b[1;36mclass_3 (bell pepper)\u001b[0m (15 files)                                                                     │\n",
       "│     │   └── 📄 ... (15 files)                                                                                   │\n",
       "│     ├── 📁 \u001b[1;36mclass_30 (spinach)\u001b[0m (26 files)                                                                        │\n",
       "│     │   └── 📄 ... (26 files)                                                                                   │\n",
       "│     ├── 📁 \u001b[1;36mclass_31 (sweetcorn)\u001b[0m (11 files)                                                                      │\n",
       "│     │   └── 📄 ... (11 files)                                                                                   │\n",
       "│     ├── 📁 \u001b[1;36mclass_32 (sweetpotato)\u001b[0m (13 files)                                                                    │\n",
       "│     │   └── 📄 ... (13 files)                                                                                   │\n",
       "│     ├── 📁 \u001b[1;36mclass_33 (tomato)\u001b[0m (22 files)                                                                         │\n",
       "│     │   └── 📄 ... (22 files)                                                                                   │\n",
       "│     ├── 📁 \u001b[1;36mclass_34 (turnip)\u001b[0m (16 files)                                                                         │\n",
       "│     │   └── 📄 ... (16 files)                                                                                   │\n",
       "│     ├── 📁 \u001b[1;36mclass_35 (watermelon)\u001b[0m (23 files)                                                                     │\n",
       "│     │   └── 📄 ... (23 files)                                                                                   │\n",
       "│     ├── 📁 \u001b[1;36mclass_4 (cabbage)\u001b[0m (18 files)                                                                         │\n",
       "│     │   └── 📄 ... (18 files)                                                                                   │\n",
       "│     ├── 📁 \u001b[1;36mclass_5 (capsicum)\u001b[0m (17 files)                                                                        │\n",
       "│     │   └── 📄 ... (17 files)                                                                                   │\n",
       "│     ├── 📁 \u001b[1;36mclass_6 (carrot)\u001b[0m (15 files)                                                                          │\n",
       "│     │   └── 📄 ... (15 files)                                                                                   │\n",
       "│     ├── 📁 \u001b[1;36mclass_7 (cauliflower)\u001b[0m (14 files)                                                                     │\n",
       "│     │   └── 📄 ... (14 files)                                                                                   │\n",
       "│     ├── 📁 \u001b[1;36mclass_8 (chilli pepper)\u001b[0m (19 files)                                                                   │\n",
       "│     │   └── 📄 ... (19 files)                                                                                   │\n",
       "│     └── 📁 \u001b[1;36mclass_9 (corn)\u001b[0m (21 files)                                                                            │\n",
       "│         └── 📄 ... (21 files)                                                                                   │\n",
       "╰─────────────────────────────────────────────────────────────────────────────────────────────────────────────────╯\n"
      ]
     },
     "metadata": {},
     "output_type": "display_data"
    },
    {
     "data": {
      "text/html": [
       "<pre style=\"white-space:pre;overflow-x:auto;line-height:normal;font-family:Menlo,'DejaVu Sans Mono',consolas,'Courier New',monospace\">\n",
       "</pre>\n"
      ],
      "text/plain": [
       "\n"
      ]
     },
     "metadata": {},
     "output_type": "display_data"
    },
    {
     "data": {
      "text/html": [
       "<pre style=\"white-space:pre;overflow-x:auto;line-height:normal;font-family:Menlo,'DejaVu Sans Mono',consolas,'Courier New',monospace\">╭─────────────────────────────────────────────────────────────────────────────────────────────────────────────────╮\n",
       "│ <span style=\"font-style: italic\">    Dataset Structure Summary     </span>                                                                              │\n",
       "│ ┏━━━━━━━━━━━━━━━━━━┳━━━━━━━━━━━━━┓                                                                              │\n",
       "│ ┃<span style=\"font-weight: bold\"> Metric           </span>┃<span style=\"font-weight: bold\"> Value       </span>┃                                                                              │\n",
       "│ ┡━━━━━━━━━━━━━━━━━━╇━━━━━━━━━━━━━┩                                                                              │\n",
       "│ │<span style=\"color: #008080; text-decoration-color: #008080\"> Total Classes    </span>│<span style=\"color: #008000; text-decoration-color: #008000\"> 36          </span>│                                                                              │\n",
       "│ │<span style=\"color: #008080; text-decoration-color: #008080\"> Total Files      </span>│<span style=\"color: #008000; text-decoration-color: #008000\"> 3115        </span>│                                                                              │\n",
       "│ │<span style=\"color: #008080; text-decoration-color: #008080\"> Training Files   </span>│<span style=\"color: #008000; text-decoration-color: #008000\"> 2492        </span>│                                                                              │\n",
       "│ │<span style=\"color: #008080; text-decoration-color: #008080\"> Testing Files    </span>│<span style=\"color: #008000; text-decoration-color: #008000\"> 623         </span>│                                                                              │\n",
       "│ │<span style=\"color: #008080; text-decoration-color: #008080\"> Train/Test Split </span>│<span style=\"color: #008000; text-decoration-color: #008000\"> 80.0%/20.0% </span>│                                                                              │\n",
       "│ └──────────────────┴─────────────┘                                                                              │\n",
       "╰─────────────────────────────────────────────────────────────────────────────────────────────────────────────────╯\n",
       "</pre>\n"
      ],
      "text/plain": [
       "╭─────────────────────────────────────────────────────────────────────────────────────────────────────────────────╮\n",
       "│ \u001b[3m    Dataset Structure Summary     \u001b[0m                                                                              │\n",
       "│ ┏━━━━━━━━━━━━━━━━━━┳━━━━━━━━━━━━━┓                                                                              │\n",
       "│ ┃\u001b[1m \u001b[0m\u001b[1mMetric          \u001b[0m\u001b[1m \u001b[0m┃\u001b[1m \u001b[0m\u001b[1mValue      \u001b[0m\u001b[1m \u001b[0m┃                                                                              │\n",
       "│ ┡━━━━━━━━━━━━━━━━━━╇━━━━━━━━━━━━━┩                                                                              │\n",
       "│ │\u001b[36m \u001b[0m\u001b[36mTotal Classes   \u001b[0m\u001b[36m \u001b[0m│\u001b[32m \u001b[0m\u001b[32m36         \u001b[0m\u001b[32m \u001b[0m│                                                                              │\n",
       "│ │\u001b[36m \u001b[0m\u001b[36mTotal Files     \u001b[0m\u001b[36m \u001b[0m│\u001b[32m \u001b[0m\u001b[32m3115       \u001b[0m\u001b[32m \u001b[0m│                                                                              │\n",
       "│ │\u001b[36m \u001b[0m\u001b[36mTraining Files  \u001b[0m\u001b[36m \u001b[0m│\u001b[32m \u001b[0m\u001b[32m2492       \u001b[0m\u001b[32m \u001b[0m│                                                                              │\n",
       "│ │\u001b[36m \u001b[0m\u001b[36mTesting Files   \u001b[0m\u001b[36m \u001b[0m│\u001b[32m \u001b[0m\u001b[32m623        \u001b[0m\u001b[32m \u001b[0m│                                                                              │\n",
       "│ │\u001b[36m \u001b[0m\u001b[36mTrain/Test Split\u001b[0m\u001b[36m \u001b[0m│\u001b[32m \u001b[0m\u001b[32m80.0%/20.0%\u001b[0m\u001b[32m \u001b[0m│                                                                              │\n",
       "│ └──────────────────┴─────────────┘                                                                              │\n",
       "╰─────────────────────────────────────────────────────────────────────────────────────────────────────────────────╯\n"
      ]
     },
     "metadata": {},
     "output_type": "display_data"
    },
    {
     "data": {
      "text/html": [
       "<pre style=\"white-space:pre;overflow-x:auto;line-height:normal;font-family:Menlo,'DejaVu Sans Mono',consolas,'Courier New',monospace\">\n",
       "</pre>\n"
      ],
      "text/plain": [
       "\n"
      ]
     },
     "metadata": {},
     "output_type": "display_data"
    },
    {
     "data": {
      "text/html": [
       "<pre style=\"white-space:pre;overflow-x:auto;line-height:normal;font-family:Menlo,'DejaVu Sans Mono',consolas,'Courier New',monospace\">                                            <span style=\"color: #000080; text-decoration-color: #000080; font-weight: bold\">Class Distribution Analysis</span>                                            \n",
       "</pre>\n"
      ],
      "text/plain": [
       "                                            \u001b[1;34mClass Distribution Analysis\u001b[0m                                            \n"
      ]
     },
     "metadata": {},
     "output_type": "display_data"
    },
    {
     "data": {
      "text/html": [
       "<pre style=\"white-space:pre;overflow-x:auto;line-height:normal;font-family:Menlo,'DejaVu Sans Mono',consolas,'Courier New',monospace\">\n",
       "</pre>\n"
      ],
      "text/plain": [
       "\n"
      ]
     },
     "metadata": {},
     "output_type": "display_data"
    },
    {
     "data": {
      "text/html": [
       "<pre style=\"white-space:pre;overflow-x:auto;line-height:normal;font-family:Menlo,'DejaVu Sans Mono',consolas,'Courier New',monospace\">╭─────────────────────────────────────────────────────────────────────────────────────────────────────────────────╮\n",
       "│ <span style=\"font-style: italic\">                           Class Distribution                            </span>                                       │\n",
       "│ ┏━━━━━━━━━━┳━━━━━━━━━━━━━━━┳━━━━━━━━━━━━━━━━━━┳━━━━━━━━━━━━━━━━━┳━━━━━━━┓                                       │\n",
       "│ ┃<span style=\"font-weight: bold\"> Class ID </span>┃<span style=\"font-weight: bold\"> Class Name    </span>┃<span style=\"font-weight: bold\"> Training Samples </span>┃<span style=\"font-weight: bold\"> Testing Samples </span>┃<span style=\"font-weight: bold\"> Total </span>┃                                       │\n",
       "│ ┡━━━━━━━━━━╇━━━━━━━━━━━━━━━╇━━━━━━━━━━━━━━━━━━╇━━━━━━━━━━━━━━━━━╇━━━━━━━┩                                       │\n",
       "│ │<span style=\"color: #008080; text-decoration-color: #008080\">  Class 0 </span>│<span style=\"color: #008000; text-decoration-color: #008000\"> apple         </span>│<span style=\"color: #808000; text-decoration-color: #808000\">               52 </span>│<span style=\"color: #808000; text-decoration-color: #808000\">              16 </span>│<span style=\"color: #800080; text-decoration-color: #800080\">    68 </span>│                                       │\n",
       "│ │<span style=\"color: #008080; text-decoration-color: #008080\">  Class 1 </span>│<span style=\"color: #008000; text-decoration-color: #008000\"> banana        </span>│<span style=\"color: #808000; text-decoration-color: #808000\">               55 </span>│<span style=\"color: #808000; text-decoration-color: #808000\">              20 </span>│<span style=\"color: #800080; text-decoration-color: #800080\">    75 </span>│                                       │\n",
       "│ │<span style=\"color: #008080; text-decoration-color: #008080\">  Class 2 </span>│<span style=\"color: #008000; text-decoration-color: #008000\"> beetroot      </span>│<span style=\"color: #808000; text-decoration-color: #808000\">               73 </span>│<span style=\"color: #808000; text-decoration-color: #808000\">              15 </span>│<span style=\"color: #800080; text-decoration-color: #800080\">    88 </span>│                                       │\n",
       "│ │<span style=\"color: #008080; text-decoration-color: #008080\">  Class 3 </span>│<span style=\"color: #008000; text-decoration-color: #008000\"> bell pepper   </span>│<span style=\"color: #808000; text-decoration-color: #808000\">               75 </span>│<span style=\"color: #808000; text-decoration-color: #808000\">              15 </span>│<span style=\"color: #800080; text-decoration-color: #800080\">    90 </span>│                                       │\n",
       "│ │<span style=\"color: #008080; text-decoration-color: #008080\">  Class 4 </span>│<span style=\"color: #008000; text-decoration-color: #008000\"> cabbage       </span>│<span style=\"color: #808000; text-decoration-color: #808000\">               74 </span>│<span style=\"color: #808000; text-decoration-color: #808000\">              18 </span>│<span style=\"color: #800080; text-decoration-color: #800080\">    92 </span>│                                       │\n",
       "│ │<span style=\"color: #008080; text-decoration-color: #008080\">  Class 5 </span>│<span style=\"color: #008000; text-decoration-color: #008000\"> capsicum      </span>│<span style=\"color: #808000; text-decoration-color: #808000\">               72 </span>│<span style=\"color: #808000; text-decoration-color: #808000\">              17 </span>│<span style=\"color: #800080; text-decoration-color: #800080\">    89 </span>│                                       │\n",
       "│ │<span style=\"color: #008080; text-decoration-color: #008080\">  Class 6 </span>│<span style=\"color: #008000; text-decoration-color: #008000\"> carrot        </span>│<span style=\"color: #808000; text-decoration-color: #808000\">               67 </span>│<span style=\"color: #808000; text-decoration-color: #808000\">              15 </span>│<span style=\"color: #800080; text-decoration-color: #800080\">    82 </span>│                                       │\n",
       "│ │<span style=\"color: #008080; text-decoration-color: #008080\">  Class 7 </span>│<span style=\"color: #008000; text-decoration-color: #008000\"> cauliflower   </span>│<span style=\"color: #808000; text-decoration-color: #808000\">               65 </span>│<span style=\"color: #808000; text-decoration-color: #808000\">              14 </span>│<span style=\"color: #800080; text-decoration-color: #800080\">    79 </span>│                                       │\n",
       "│ │<span style=\"color: #008080; text-decoration-color: #008080\">  Class 8 </span>│<span style=\"color: #008000; text-decoration-color: #008000\"> chilli pepper </span>│<span style=\"color: #808000; text-decoration-color: #808000\">               68 </span>│<span style=\"color: #808000; text-decoration-color: #808000\">              19 </span>│<span style=\"color: #800080; text-decoration-color: #800080\">    87 </span>│                                       │\n",
       "│ │<span style=\"color: #008080; text-decoration-color: #008080\">  Class 9 </span>│<span style=\"color: #008000; text-decoration-color: #008000\"> corn          </span>│<span style=\"color: #808000; text-decoration-color: #808000\">               66 </span>│<span style=\"color: #808000; text-decoration-color: #808000\">              21 </span>│<span style=\"color: #800080; text-decoration-color: #800080\">    87 </span>│                                       │\n",
       "│ │<span style=\"color: #008080; text-decoration-color: #008080\"> Class 10 </span>│<span style=\"color: #008000; text-decoration-color: #008000\"> cucumber      </span>│<span style=\"color: #808000; text-decoration-color: #808000\">               69 </span>│<span style=\"color: #808000; text-decoration-color: #808000\">              25 </span>│<span style=\"color: #800080; text-decoration-color: #800080\">    94 </span>│                                       │\n",
       "│ │<span style=\"color: #008080; text-decoration-color: #008080\"> Class 11 </span>│<span style=\"color: #008000; text-decoration-color: #008000\"> eggplant      </span>│<span style=\"color: #808000; text-decoration-color: #808000\">               70 </span>│<span style=\"color: #808000; text-decoration-color: #808000\">              14 </span>│<span style=\"color: #800080; text-decoration-color: #800080\">    84 </span>│                                       │\n",
       "│ │<span style=\"color: #008080; text-decoration-color: #008080\"> Class 12 </span>│<span style=\"color: #008000; text-decoration-color: #008000\"> garlic        </span>│<span style=\"color: #808000; text-decoration-color: #808000\">               76 </span>│<span style=\"color: #808000; text-decoration-color: #808000\">              16 </span>│<span style=\"color: #800080; text-decoration-color: #800080\">    92 </span>│                                       │\n",
       "│ │<span style=\"color: #008080; text-decoration-color: #008080\"> Class 13 </span>│<span style=\"color: #008000; text-decoration-color: #008000\"> ginger        </span>│<span style=\"color: #808000; text-decoration-color: #808000\">               53 </span>│<span style=\"color: #808000; text-decoration-color: #808000\">              15 </span>│<span style=\"color: #800080; text-decoration-color: #800080\">    68 </span>│                                       │\n",
       "│ │<span style=\"color: #008080; text-decoration-color: #008080\"> Class 14 </span>│<span style=\"color: #008000; text-decoration-color: #008000\"> grapes        </span>│<span style=\"color: #808000; text-decoration-color: #808000\">               78 </span>│<span style=\"color: #808000; text-decoration-color: #808000\">              22 </span>│<span style=\"color: #800080; text-decoration-color: #800080\">   100 </span>│                                       │\n",
       "│ │<span style=\"color: #008080; text-decoration-color: #008080\"> Class 15 </span>│<span style=\"color: #008000; text-decoration-color: #008000\"> jalepeno      </span>│<span style=\"color: #808000; text-decoration-color: #808000\">               73 </span>│<span style=\"color: #808000; text-decoration-color: #808000\">              15 </span>│<span style=\"color: #800080; text-decoration-color: #800080\">    88 </span>│                                       │\n",
       "│ │<span style=\"color: #008080; text-decoration-color: #008080\"> Class 16 </span>│<span style=\"color: #008000; text-decoration-color: #008000\"> kiwi          </span>│<span style=\"color: #808000; text-decoration-color: #808000\">               73 </span>│<span style=\"color: #808000; text-decoration-color: #808000\">              15 </span>│<span style=\"color: #800080; text-decoration-color: #800080\">    88 </span>│                                       │\n",
       "│ │<span style=\"color: #008080; text-decoration-color: #008080\"> Class 17 </span>│<span style=\"color: #008000; text-decoration-color: #008000\"> lemon         </span>│<span style=\"color: #808000; text-decoration-color: #808000\">               64 </span>│<span style=\"color: #808000; text-decoration-color: #808000\">              18 </span>│<span style=\"color: #800080; text-decoration-color: #800080\">    82 </span>│                                       │\n",
       "│ │<span style=\"color: #008080; text-decoration-color: #008080\"> Class 18 </span>│<span style=\"color: #008000; text-decoration-color: #008000\"> lettuce       </span>│<span style=\"color: #808000; text-decoration-color: #808000\">               77 </span>│<span style=\"color: #808000; text-decoration-color: #808000\">              20 </span>│<span style=\"color: #800080; text-decoration-color: #800080\">    97 </span>│                                       │\n",
       "│ │<span style=\"color: #008080; text-decoration-color: #008080\"> Class 19 </span>│<span style=\"color: #008000; text-decoration-color: #008000\"> mango         </span>│<span style=\"color: #808000; text-decoration-color: #808000\">               68 </span>│<span style=\"color: #808000; text-decoration-color: #808000\">              18 </span>│<span style=\"color: #800080; text-decoration-color: #800080\">    86 </span>│                                       │\n",
       "│ │<span style=\"color: #008080; text-decoration-color: #008080\"> Class 20 </span>│<span style=\"color: #008000; text-decoration-color: #008000\"> onion         </span>│<span style=\"color: #808000; text-decoration-color: #808000\">               75 </span>│<span style=\"color: #808000; text-decoration-color: #808000\">              19 </span>│<span style=\"color: #800080; text-decoration-color: #800080\">    94 </span>│                                       │\n",
       "│ │<span style=\"color: #008080; text-decoration-color: #008080\"> Class 21 </span>│<span style=\"color: #008000; text-decoration-color: #008000\"> orange        </span>│<span style=\"color: #808000; text-decoration-color: #808000\">               56 </span>│<span style=\"color: #808000; text-decoration-color: #808000\">              13 </span>│<span style=\"color: #800080; text-decoration-color: #800080\">    69 </span>│                                       │\n",
       "│ │<span style=\"color: #008080; text-decoration-color: #008080\"> Class 22 </span>│<span style=\"color: #008000; text-decoration-color: #008000\"> paprika       </span>│<span style=\"color: #808000; text-decoration-color: #808000\">               69 </span>│<span style=\"color: #808000; text-decoration-color: #808000\">              14 </span>│<span style=\"color: #800080; text-decoration-color: #800080\">    83 </span>│                                       │\n",
       "│ │<span style=\"color: #008080; text-decoration-color: #008080\"> Class 23 </span>│<span style=\"color: #008000; text-decoration-color: #008000\"> pear          </span>│<span style=\"color: #808000; text-decoration-color: #808000\">               73 </span>│<span style=\"color: #808000; text-decoration-color: #808000\">              16 </span>│<span style=\"color: #800080; text-decoration-color: #800080\">    89 </span>│                                       │\n",
       "│ │<span style=\"color: #008080; text-decoration-color: #008080\"> Class 24 </span>│<span style=\"color: #008000; text-decoration-color: #008000\"> peas          </span>│<span style=\"color: #808000; text-decoration-color: #808000\">               82 </span>│<span style=\"color: #808000; text-decoration-color: #808000\">              18 </span>│<span style=\"color: #800080; text-decoration-color: #800080\">   100 </span>│                                       │\n",
       "│ │<span style=\"color: #008080; text-decoration-color: #008080\"> Class 25 </span>│<span style=\"color: #008000; text-decoration-color: #008000\"> pineapple     </span>│<span style=\"color: #808000; text-decoration-color: #808000\">               80 </span>│<span style=\"color: #808000; text-decoration-color: #808000\">              19 </span>│<span style=\"color: #800080; text-decoration-color: #800080\">    99 </span>│                                       │\n",
       "│ │<span style=\"color: #008080; text-decoration-color: #008080\"> Class 26 </span>│<span style=\"color: #008000; text-decoration-color: #008000\"> pomegranate   </span>│<span style=\"color: #808000; text-decoration-color: #808000\">               68 </span>│<span style=\"color: #808000; text-decoration-color: #808000\">              11 </span>│<span style=\"color: #800080; text-decoration-color: #800080\">    79 </span>│                                       │\n",
       "│ │<span style=\"color: #008080; text-decoration-color: #008080\"> Class 27 </span>│<span style=\"color: #008000; text-decoration-color: #008000\"> potato        </span>│<span style=\"color: #808000; text-decoration-color: #808000\">               60 </span>│<span style=\"color: #808000; text-decoration-color: #808000\">              17 </span>│<span style=\"color: #800080; text-decoration-color: #800080\">    77 </span>│                                       │\n",
       "│ │<span style=\"color: #008080; text-decoration-color: #008080\"> Class 28 </span>│<span style=\"color: #008000; text-decoration-color: #008000\"> raddish       </span>│<span style=\"color: #808000; text-decoration-color: #808000\">               63 </span>│<span style=\"color: #808000; text-decoration-color: #808000\">              18 </span>│<span style=\"color: #800080; text-decoration-color: #800080\">    81 </span>│                                       │\n",
       "│ │<span style=\"color: #008080; text-decoration-color: #008080\"> Class 29 </span>│<span style=\"color: #008000; text-decoration-color: #008000\"> soy beans     </span>│<span style=\"color: #808000; text-decoration-color: #808000\">               78 </span>│<span style=\"color: #808000; text-decoration-color: #808000\">              19 </span>│<span style=\"color: #800080; text-decoration-color: #800080\">    97 </span>│                                       │\n",
       "│ │<span style=\"color: #008080; text-decoration-color: #008080\"> Class 30 </span>│<span style=\"color: #008000; text-decoration-color: #008000\"> spinach       </span>│<span style=\"color: #808000; text-decoration-color: #808000\">               71 </span>│<span style=\"color: #808000; text-decoration-color: #808000\">              26 </span>│<span style=\"color: #800080; text-decoration-color: #800080\">    97 </span>│                                       │\n",
       "│ │<span style=\"color: #008080; text-decoration-color: #008080\"> Class 31 </span>│<span style=\"color: #008000; text-decoration-color: #008000\"> sweetcorn     </span>│<span style=\"color: #808000; text-decoration-color: #808000\">               80 </span>│<span style=\"color: #808000; text-decoration-color: #808000\">              11 </span>│<span style=\"color: #800080; text-decoration-color: #800080\">    91 </span>│                                       │\n",
       "│ │<span style=\"color: #008080; text-decoration-color: #008080\"> Class 32 </span>│<span style=\"color: #008000; text-decoration-color: #008000\"> sweetpotato   </span>│<span style=\"color: #808000; text-decoration-color: #808000\">               56 </span>│<span style=\"color: #808000; text-decoration-color: #808000\">              13 </span>│<span style=\"color: #800080; text-decoration-color: #800080\">    69 </span>│                                       │\n",
       "│ │<span style=\"color: #008080; text-decoration-color: #008080\"> Class 33 </span>│<span style=\"color: #008000; text-decoration-color: #008000\"> tomato        </span>│<span style=\"color: #808000; text-decoration-color: #808000\">               70 </span>│<span style=\"color: #808000; text-decoration-color: #808000\">              22 </span>│<span style=\"color: #800080; text-decoration-color: #800080\">    92 </span>│                                       │\n",
       "│ │<span style=\"color: #008080; text-decoration-color: #008080\"> Class 34 </span>│<span style=\"color: #008000; text-decoration-color: #008000\"> turnip        </span>│<span style=\"color: #808000; text-decoration-color: #808000\">               82 </span>│<span style=\"color: #808000; text-decoration-color: #808000\">              16 </span>│<span style=\"color: #800080; text-decoration-color: #800080\">    98 </span>│                                       │\n",
       "│ │<span style=\"color: #008080; text-decoration-color: #008080\"> Class 35 </span>│<span style=\"color: #008000; text-decoration-color: #008000\"> watermelon    </span>│<span style=\"color: #808000; text-decoration-color: #808000\">               61 </span>│<span style=\"color: #808000; text-decoration-color: #808000\">              23 </span>│<span style=\"color: #800080; text-decoration-color: #800080\">    84 </span>│                                       │\n",
       "│ └──────────┴───────────────┴──────────────────┴─────────────────┴───────┘                                       │\n",
       "╰─────────────────────────────────────────────────────────────────────────────────────────────────────────────────╯\n",
       "</pre>\n"
      ],
      "text/plain": [
       "╭─────────────────────────────────────────────────────────────────────────────────────────────────────────────────╮\n",
       "│ \u001b[3m                           Class Distribution                            \u001b[0m                                       │\n",
       "│ ┏━━━━━━━━━━┳━━━━━━━━━━━━━━━┳━━━━━━━━━━━━━━━━━━┳━━━━━━━━━━━━━━━━━┳━━━━━━━┓                                       │\n",
       "│ ┃\u001b[1m \u001b[0m\u001b[1mClass ID\u001b[0m\u001b[1m \u001b[0m┃\u001b[1m \u001b[0m\u001b[1mClass Name   \u001b[0m\u001b[1m \u001b[0m┃\u001b[1m \u001b[0m\u001b[1mTraining Samples\u001b[0m\u001b[1m \u001b[0m┃\u001b[1m \u001b[0m\u001b[1mTesting Samples\u001b[0m\u001b[1m \u001b[0m┃\u001b[1m \u001b[0m\u001b[1mTotal\u001b[0m\u001b[1m \u001b[0m┃                                       │\n",
       "│ ┡━━━━━━━━━━╇━━━━━━━━━━━━━━━╇━━━━━━━━━━━━━━━━━━╇━━━━━━━━━━━━━━━━━╇━━━━━━━┩                                       │\n",
       "│ │\u001b[36m \u001b[0m\u001b[36m Class 0\u001b[0m\u001b[36m \u001b[0m│\u001b[32m \u001b[0m\u001b[32mapple        \u001b[0m\u001b[32m \u001b[0m│\u001b[33m \u001b[0m\u001b[33m              52\u001b[0m\u001b[33m \u001b[0m│\u001b[33m \u001b[0m\u001b[33m             16\u001b[0m\u001b[33m \u001b[0m│\u001b[35m \u001b[0m\u001b[35m   68\u001b[0m\u001b[35m \u001b[0m│                                       │\n",
       "│ │\u001b[36m \u001b[0m\u001b[36m Class 1\u001b[0m\u001b[36m \u001b[0m│\u001b[32m \u001b[0m\u001b[32mbanana       \u001b[0m\u001b[32m \u001b[0m│\u001b[33m \u001b[0m\u001b[33m              55\u001b[0m\u001b[33m \u001b[0m│\u001b[33m \u001b[0m\u001b[33m             20\u001b[0m\u001b[33m \u001b[0m│\u001b[35m \u001b[0m\u001b[35m   75\u001b[0m\u001b[35m \u001b[0m│                                       │\n",
       "│ │\u001b[36m \u001b[0m\u001b[36m Class 2\u001b[0m\u001b[36m \u001b[0m│\u001b[32m \u001b[0m\u001b[32mbeetroot     \u001b[0m\u001b[32m \u001b[0m│\u001b[33m \u001b[0m\u001b[33m              73\u001b[0m\u001b[33m \u001b[0m│\u001b[33m \u001b[0m\u001b[33m             15\u001b[0m\u001b[33m \u001b[0m│\u001b[35m \u001b[0m\u001b[35m   88\u001b[0m\u001b[35m \u001b[0m│                                       │\n",
       "│ │\u001b[36m \u001b[0m\u001b[36m Class 3\u001b[0m\u001b[36m \u001b[0m│\u001b[32m \u001b[0m\u001b[32mbell pepper  \u001b[0m\u001b[32m \u001b[0m│\u001b[33m \u001b[0m\u001b[33m              75\u001b[0m\u001b[33m \u001b[0m│\u001b[33m \u001b[0m\u001b[33m             15\u001b[0m\u001b[33m \u001b[0m│\u001b[35m \u001b[0m\u001b[35m   90\u001b[0m\u001b[35m \u001b[0m│                                       │\n",
       "│ │\u001b[36m \u001b[0m\u001b[36m Class 4\u001b[0m\u001b[36m \u001b[0m│\u001b[32m \u001b[0m\u001b[32mcabbage      \u001b[0m\u001b[32m \u001b[0m│\u001b[33m \u001b[0m\u001b[33m              74\u001b[0m\u001b[33m \u001b[0m│\u001b[33m \u001b[0m\u001b[33m             18\u001b[0m\u001b[33m \u001b[0m│\u001b[35m \u001b[0m\u001b[35m   92\u001b[0m\u001b[35m \u001b[0m│                                       │\n",
       "│ │\u001b[36m \u001b[0m\u001b[36m Class 5\u001b[0m\u001b[36m \u001b[0m│\u001b[32m \u001b[0m\u001b[32mcapsicum     \u001b[0m\u001b[32m \u001b[0m│\u001b[33m \u001b[0m\u001b[33m              72\u001b[0m\u001b[33m \u001b[0m│\u001b[33m \u001b[0m\u001b[33m             17\u001b[0m\u001b[33m \u001b[0m│\u001b[35m \u001b[0m\u001b[35m   89\u001b[0m\u001b[35m \u001b[0m│                                       │\n",
       "│ │\u001b[36m \u001b[0m\u001b[36m Class 6\u001b[0m\u001b[36m \u001b[0m│\u001b[32m \u001b[0m\u001b[32mcarrot       \u001b[0m\u001b[32m \u001b[0m│\u001b[33m \u001b[0m\u001b[33m              67\u001b[0m\u001b[33m \u001b[0m│\u001b[33m \u001b[0m\u001b[33m             15\u001b[0m\u001b[33m \u001b[0m│\u001b[35m \u001b[0m\u001b[35m   82\u001b[0m\u001b[35m \u001b[0m│                                       │\n",
       "│ │\u001b[36m \u001b[0m\u001b[36m Class 7\u001b[0m\u001b[36m \u001b[0m│\u001b[32m \u001b[0m\u001b[32mcauliflower  \u001b[0m\u001b[32m \u001b[0m│\u001b[33m \u001b[0m\u001b[33m              65\u001b[0m\u001b[33m \u001b[0m│\u001b[33m \u001b[0m\u001b[33m             14\u001b[0m\u001b[33m \u001b[0m│\u001b[35m \u001b[0m\u001b[35m   79\u001b[0m\u001b[35m \u001b[0m│                                       │\n",
       "│ │\u001b[36m \u001b[0m\u001b[36m Class 8\u001b[0m\u001b[36m \u001b[0m│\u001b[32m \u001b[0m\u001b[32mchilli pepper\u001b[0m\u001b[32m \u001b[0m│\u001b[33m \u001b[0m\u001b[33m              68\u001b[0m\u001b[33m \u001b[0m│\u001b[33m \u001b[0m\u001b[33m             19\u001b[0m\u001b[33m \u001b[0m│\u001b[35m \u001b[0m\u001b[35m   87\u001b[0m\u001b[35m \u001b[0m│                                       │\n",
       "│ │\u001b[36m \u001b[0m\u001b[36m Class 9\u001b[0m\u001b[36m \u001b[0m│\u001b[32m \u001b[0m\u001b[32mcorn         \u001b[0m\u001b[32m \u001b[0m│\u001b[33m \u001b[0m\u001b[33m              66\u001b[0m\u001b[33m \u001b[0m│\u001b[33m \u001b[0m\u001b[33m             21\u001b[0m\u001b[33m \u001b[0m│\u001b[35m \u001b[0m\u001b[35m   87\u001b[0m\u001b[35m \u001b[0m│                                       │\n",
       "│ │\u001b[36m \u001b[0m\u001b[36mClass 10\u001b[0m\u001b[36m \u001b[0m│\u001b[32m \u001b[0m\u001b[32mcucumber     \u001b[0m\u001b[32m \u001b[0m│\u001b[33m \u001b[0m\u001b[33m              69\u001b[0m\u001b[33m \u001b[0m│\u001b[33m \u001b[0m\u001b[33m             25\u001b[0m\u001b[33m \u001b[0m│\u001b[35m \u001b[0m\u001b[35m   94\u001b[0m\u001b[35m \u001b[0m│                                       │\n",
       "│ │\u001b[36m \u001b[0m\u001b[36mClass 11\u001b[0m\u001b[36m \u001b[0m│\u001b[32m \u001b[0m\u001b[32meggplant     \u001b[0m\u001b[32m \u001b[0m│\u001b[33m \u001b[0m\u001b[33m              70\u001b[0m\u001b[33m \u001b[0m│\u001b[33m \u001b[0m\u001b[33m             14\u001b[0m\u001b[33m \u001b[0m│\u001b[35m \u001b[0m\u001b[35m   84\u001b[0m\u001b[35m \u001b[0m│                                       │\n",
       "│ │\u001b[36m \u001b[0m\u001b[36mClass 12\u001b[0m\u001b[36m \u001b[0m│\u001b[32m \u001b[0m\u001b[32mgarlic       \u001b[0m\u001b[32m \u001b[0m│\u001b[33m \u001b[0m\u001b[33m              76\u001b[0m\u001b[33m \u001b[0m│\u001b[33m \u001b[0m\u001b[33m             16\u001b[0m\u001b[33m \u001b[0m│\u001b[35m \u001b[0m\u001b[35m   92\u001b[0m\u001b[35m \u001b[0m│                                       │\n",
       "│ │\u001b[36m \u001b[0m\u001b[36mClass 13\u001b[0m\u001b[36m \u001b[0m│\u001b[32m \u001b[0m\u001b[32mginger       \u001b[0m\u001b[32m \u001b[0m│\u001b[33m \u001b[0m\u001b[33m              53\u001b[0m\u001b[33m \u001b[0m│\u001b[33m \u001b[0m\u001b[33m             15\u001b[0m\u001b[33m \u001b[0m│\u001b[35m \u001b[0m\u001b[35m   68\u001b[0m\u001b[35m \u001b[0m│                                       │\n",
       "│ │\u001b[36m \u001b[0m\u001b[36mClass 14\u001b[0m\u001b[36m \u001b[0m│\u001b[32m \u001b[0m\u001b[32mgrapes       \u001b[0m\u001b[32m \u001b[0m│\u001b[33m \u001b[0m\u001b[33m              78\u001b[0m\u001b[33m \u001b[0m│\u001b[33m \u001b[0m\u001b[33m             22\u001b[0m\u001b[33m \u001b[0m│\u001b[35m \u001b[0m\u001b[35m  100\u001b[0m\u001b[35m \u001b[0m│                                       │\n",
       "│ │\u001b[36m \u001b[0m\u001b[36mClass 15\u001b[0m\u001b[36m \u001b[0m│\u001b[32m \u001b[0m\u001b[32mjalepeno     \u001b[0m\u001b[32m \u001b[0m│\u001b[33m \u001b[0m\u001b[33m              73\u001b[0m\u001b[33m \u001b[0m│\u001b[33m \u001b[0m\u001b[33m             15\u001b[0m\u001b[33m \u001b[0m│\u001b[35m \u001b[0m\u001b[35m   88\u001b[0m\u001b[35m \u001b[0m│                                       │\n",
       "│ │\u001b[36m \u001b[0m\u001b[36mClass 16\u001b[0m\u001b[36m \u001b[0m│\u001b[32m \u001b[0m\u001b[32mkiwi         \u001b[0m\u001b[32m \u001b[0m│\u001b[33m \u001b[0m\u001b[33m              73\u001b[0m\u001b[33m \u001b[0m│\u001b[33m \u001b[0m\u001b[33m             15\u001b[0m\u001b[33m \u001b[0m│\u001b[35m \u001b[0m\u001b[35m   88\u001b[0m\u001b[35m \u001b[0m│                                       │\n",
       "│ │\u001b[36m \u001b[0m\u001b[36mClass 17\u001b[0m\u001b[36m \u001b[0m│\u001b[32m \u001b[0m\u001b[32mlemon        \u001b[0m\u001b[32m \u001b[0m│\u001b[33m \u001b[0m\u001b[33m              64\u001b[0m\u001b[33m \u001b[0m│\u001b[33m \u001b[0m\u001b[33m             18\u001b[0m\u001b[33m \u001b[0m│\u001b[35m \u001b[0m\u001b[35m   82\u001b[0m\u001b[35m \u001b[0m│                                       │\n",
       "│ │\u001b[36m \u001b[0m\u001b[36mClass 18\u001b[0m\u001b[36m \u001b[0m│\u001b[32m \u001b[0m\u001b[32mlettuce      \u001b[0m\u001b[32m \u001b[0m│\u001b[33m \u001b[0m\u001b[33m              77\u001b[0m\u001b[33m \u001b[0m│\u001b[33m \u001b[0m\u001b[33m             20\u001b[0m\u001b[33m \u001b[0m│\u001b[35m \u001b[0m\u001b[35m   97\u001b[0m\u001b[35m \u001b[0m│                                       │\n",
       "│ │\u001b[36m \u001b[0m\u001b[36mClass 19\u001b[0m\u001b[36m \u001b[0m│\u001b[32m \u001b[0m\u001b[32mmango        \u001b[0m\u001b[32m \u001b[0m│\u001b[33m \u001b[0m\u001b[33m              68\u001b[0m\u001b[33m \u001b[0m│\u001b[33m \u001b[0m\u001b[33m             18\u001b[0m\u001b[33m \u001b[0m│\u001b[35m \u001b[0m\u001b[35m   86\u001b[0m\u001b[35m \u001b[0m│                                       │\n",
       "│ │\u001b[36m \u001b[0m\u001b[36mClass 20\u001b[0m\u001b[36m \u001b[0m│\u001b[32m \u001b[0m\u001b[32monion        \u001b[0m\u001b[32m \u001b[0m│\u001b[33m \u001b[0m\u001b[33m              75\u001b[0m\u001b[33m \u001b[0m│\u001b[33m \u001b[0m\u001b[33m             19\u001b[0m\u001b[33m \u001b[0m│\u001b[35m \u001b[0m\u001b[35m   94\u001b[0m\u001b[35m \u001b[0m│                                       │\n",
       "│ │\u001b[36m \u001b[0m\u001b[36mClass 21\u001b[0m\u001b[36m \u001b[0m│\u001b[32m \u001b[0m\u001b[32morange       \u001b[0m\u001b[32m \u001b[0m│\u001b[33m \u001b[0m\u001b[33m              56\u001b[0m\u001b[33m \u001b[0m│\u001b[33m \u001b[0m\u001b[33m             13\u001b[0m\u001b[33m \u001b[0m│\u001b[35m \u001b[0m\u001b[35m   69\u001b[0m\u001b[35m \u001b[0m│                                       │\n",
       "│ │\u001b[36m \u001b[0m\u001b[36mClass 22\u001b[0m\u001b[36m \u001b[0m│\u001b[32m \u001b[0m\u001b[32mpaprika      \u001b[0m\u001b[32m \u001b[0m│\u001b[33m \u001b[0m\u001b[33m              69\u001b[0m\u001b[33m \u001b[0m│\u001b[33m \u001b[0m\u001b[33m             14\u001b[0m\u001b[33m \u001b[0m│\u001b[35m \u001b[0m\u001b[35m   83\u001b[0m\u001b[35m \u001b[0m│                                       │\n",
       "│ │\u001b[36m \u001b[0m\u001b[36mClass 23\u001b[0m\u001b[36m \u001b[0m│\u001b[32m \u001b[0m\u001b[32mpear         \u001b[0m\u001b[32m \u001b[0m│\u001b[33m \u001b[0m\u001b[33m              73\u001b[0m\u001b[33m \u001b[0m│\u001b[33m \u001b[0m\u001b[33m             16\u001b[0m\u001b[33m \u001b[0m│\u001b[35m \u001b[0m\u001b[35m   89\u001b[0m\u001b[35m \u001b[0m│                                       │\n",
       "│ │\u001b[36m \u001b[0m\u001b[36mClass 24\u001b[0m\u001b[36m \u001b[0m│\u001b[32m \u001b[0m\u001b[32mpeas         \u001b[0m\u001b[32m \u001b[0m│\u001b[33m \u001b[0m\u001b[33m              82\u001b[0m\u001b[33m \u001b[0m│\u001b[33m \u001b[0m\u001b[33m             18\u001b[0m\u001b[33m \u001b[0m│\u001b[35m \u001b[0m\u001b[35m  100\u001b[0m\u001b[35m \u001b[0m│                                       │\n",
       "│ │\u001b[36m \u001b[0m\u001b[36mClass 25\u001b[0m\u001b[36m \u001b[0m│\u001b[32m \u001b[0m\u001b[32mpineapple    \u001b[0m\u001b[32m \u001b[0m│\u001b[33m \u001b[0m\u001b[33m              80\u001b[0m\u001b[33m \u001b[0m│\u001b[33m \u001b[0m\u001b[33m             19\u001b[0m\u001b[33m \u001b[0m│\u001b[35m \u001b[0m\u001b[35m   99\u001b[0m\u001b[35m \u001b[0m│                                       │\n",
       "│ │\u001b[36m \u001b[0m\u001b[36mClass 26\u001b[0m\u001b[36m \u001b[0m│\u001b[32m \u001b[0m\u001b[32mpomegranate  \u001b[0m\u001b[32m \u001b[0m│\u001b[33m \u001b[0m\u001b[33m              68\u001b[0m\u001b[33m \u001b[0m│\u001b[33m \u001b[0m\u001b[33m             11\u001b[0m\u001b[33m \u001b[0m│\u001b[35m \u001b[0m\u001b[35m   79\u001b[0m\u001b[35m \u001b[0m│                                       │\n",
       "│ │\u001b[36m \u001b[0m\u001b[36mClass 27\u001b[0m\u001b[36m \u001b[0m│\u001b[32m \u001b[0m\u001b[32mpotato       \u001b[0m\u001b[32m \u001b[0m│\u001b[33m \u001b[0m\u001b[33m              60\u001b[0m\u001b[33m \u001b[0m│\u001b[33m \u001b[0m\u001b[33m             17\u001b[0m\u001b[33m \u001b[0m│\u001b[35m \u001b[0m\u001b[35m   77\u001b[0m\u001b[35m \u001b[0m│                                       │\n",
       "│ │\u001b[36m \u001b[0m\u001b[36mClass 28\u001b[0m\u001b[36m \u001b[0m│\u001b[32m \u001b[0m\u001b[32mraddish      \u001b[0m\u001b[32m \u001b[0m│\u001b[33m \u001b[0m\u001b[33m              63\u001b[0m\u001b[33m \u001b[0m│\u001b[33m \u001b[0m\u001b[33m             18\u001b[0m\u001b[33m \u001b[0m│\u001b[35m \u001b[0m\u001b[35m   81\u001b[0m\u001b[35m \u001b[0m│                                       │\n",
       "│ │\u001b[36m \u001b[0m\u001b[36mClass 29\u001b[0m\u001b[36m \u001b[0m│\u001b[32m \u001b[0m\u001b[32msoy beans    \u001b[0m\u001b[32m \u001b[0m│\u001b[33m \u001b[0m\u001b[33m              78\u001b[0m\u001b[33m \u001b[0m│\u001b[33m \u001b[0m\u001b[33m             19\u001b[0m\u001b[33m \u001b[0m│\u001b[35m \u001b[0m\u001b[35m   97\u001b[0m\u001b[35m \u001b[0m│                                       │\n",
       "│ │\u001b[36m \u001b[0m\u001b[36mClass 30\u001b[0m\u001b[36m \u001b[0m│\u001b[32m \u001b[0m\u001b[32mspinach      \u001b[0m\u001b[32m \u001b[0m│\u001b[33m \u001b[0m\u001b[33m              71\u001b[0m\u001b[33m \u001b[0m│\u001b[33m \u001b[0m\u001b[33m             26\u001b[0m\u001b[33m \u001b[0m│\u001b[35m \u001b[0m\u001b[35m   97\u001b[0m\u001b[35m \u001b[0m│                                       │\n",
       "│ │\u001b[36m \u001b[0m\u001b[36mClass 31\u001b[0m\u001b[36m \u001b[0m│\u001b[32m \u001b[0m\u001b[32msweetcorn    \u001b[0m\u001b[32m \u001b[0m│\u001b[33m \u001b[0m\u001b[33m              80\u001b[0m\u001b[33m \u001b[0m│\u001b[33m \u001b[0m\u001b[33m             11\u001b[0m\u001b[33m \u001b[0m│\u001b[35m \u001b[0m\u001b[35m   91\u001b[0m\u001b[35m \u001b[0m│                                       │\n",
       "│ │\u001b[36m \u001b[0m\u001b[36mClass 32\u001b[0m\u001b[36m \u001b[0m│\u001b[32m \u001b[0m\u001b[32msweetpotato  \u001b[0m\u001b[32m \u001b[0m│\u001b[33m \u001b[0m\u001b[33m              56\u001b[0m\u001b[33m \u001b[0m│\u001b[33m \u001b[0m\u001b[33m             13\u001b[0m\u001b[33m \u001b[0m│\u001b[35m \u001b[0m\u001b[35m   69\u001b[0m\u001b[35m \u001b[0m│                                       │\n",
       "│ │\u001b[36m \u001b[0m\u001b[36mClass 33\u001b[0m\u001b[36m \u001b[0m│\u001b[32m \u001b[0m\u001b[32mtomato       \u001b[0m\u001b[32m \u001b[0m│\u001b[33m \u001b[0m\u001b[33m              70\u001b[0m\u001b[33m \u001b[0m│\u001b[33m \u001b[0m\u001b[33m             22\u001b[0m\u001b[33m \u001b[0m│\u001b[35m \u001b[0m\u001b[35m   92\u001b[0m\u001b[35m \u001b[0m│                                       │\n",
       "│ │\u001b[36m \u001b[0m\u001b[36mClass 34\u001b[0m\u001b[36m \u001b[0m│\u001b[32m \u001b[0m\u001b[32mturnip       \u001b[0m\u001b[32m \u001b[0m│\u001b[33m \u001b[0m\u001b[33m              82\u001b[0m\u001b[33m \u001b[0m│\u001b[33m \u001b[0m\u001b[33m             16\u001b[0m\u001b[33m \u001b[0m│\u001b[35m \u001b[0m\u001b[35m   98\u001b[0m\u001b[35m \u001b[0m│                                       │\n",
       "│ │\u001b[36m \u001b[0m\u001b[36mClass 35\u001b[0m\u001b[36m \u001b[0m│\u001b[32m \u001b[0m\u001b[32mwatermelon   \u001b[0m\u001b[32m \u001b[0m│\u001b[33m \u001b[0m\u001b[33m              61\u001b[0m\u001b[33m \u001b[0m│\u001b[33m \u001b[0m\u001b[33m             23\u001b[0m\u001b[33m \u001b[0m│\u001b[35m \u001b[0m\u001b[35m   84\u001b[0m\u001b[35m \u001b[0m│                                       │\n",
       "│ └──────────┴───────────────┴──────────────────┴─────────────────┴───────┘                                       │\n",
       "╰─────────────────────────────────────────────────────────────────────────────────────────────────────────────────╯\n"
      ]
     },
     "metadata": {},
     "output_type": "display_data"
    },
    {
     "data": {
      "text/html": [
       "<pre style=\"white-space:pre;overflow-x:auto;line-height:normal;font-family:Menlo,'DejaVu Sans Mono',consolas,'Courier New',monospace\">\n",
       "</pre>\n"
      ],
      "text/plain": [
       "\n"
      ]
     },
     "metadata": {},
     "output_type": "display_data"
    },
    {
     "data": {
      "text/html": [
       "<pre style=\"white-space:pre;overflow-x:auto;line-height:normal;font-family:Menlo,'DejaVu Sans Mono',consolas,'Courier New',monospace\"><span style=\"color: #008000; text-decoration-color: #008000\">Class distribution visualization saved as: class_distribution_explorer.png</span>\n",
       "</pre>\n"
      ],
      "text/plain": [
       "\u001b[32mClass distribution visualization saved as: class_distribution_explorer.png\u001b[0m\n"
      ]
     },
     "metadata": {},
     "output_type": "display_data"
    },
    {
     "data": {
      "text/html": [
       "<pre style=\"white-space:pre;overflow-x:auto;line-height:normal;font-family:Menlo,'DejaVu Sans Mono',consolas,'Courier New',monospace\">\n",
       "</pre>\n"
      ],
      "text/plain": [
       "\n"
      ]
     },
     "metadata": {},
     "output_type": "display_data"
    },
    {
     "data": {
      "text/html": [
       "<pre style=\"white-space:pre;overflow-x:auto;line-height:normal;font-family:Menlo,'DejaVu Sans Mono',consolas,'Courier New',monospace\"><span style=\"color: #00ff00; text-decoration-color: #00ff00\">──────────────────────────────────────────── </span><span style=\"color: #000080; text-decoration-color: #000080; font-weight: bold\">Dataset Overview Complete</span><span style=\"color: #00ff00; text-decoration-color: #00ff00\"> ────────────────────────────────────────────</span>\n",
       "</pre>\n"
      ],
      "text/plain": [
       "\u001b[92m──────────────────────────────────────────── \u001b[0m\u001b[1;34mDataset Overview Complete\u001b[0m\u001b[92m ────────────────────────────────────────────\u001b[0m\n"
      ]
     },
     "metadata": {},
     "output_type": "display_data"
    },
    {
     "data": {
      "text/html": [
       "<pre style=\"white-space:pre;overflow-x:auto;line-height:normal;font-family:Menlo,'DejaVu Sans Mono',consolas,'Courier New',monospace\">\n",
       "                                                      <span style=\"font-weight: bold; text-decoration: underline\">Summary</span>                                                      \n",
       "\n",
       "<span style=\"color: #808000; text-decoration-color: #808000; font-weight: bold\"> • </span>The dataset contains <span style=\"font-weight: bold\">36 classes</span> of fruits and vegetables                                                        \n",
       "<span style=\"color: #808000; text-decoration-color: #808000; font-weight: bold\"> • </span>Total of <span style=\"font-weight: bold\">3115 image files</span> across train and test splits                                                          \n",
       "<span style=\"color: #808000; text-decoration-color: #808000; font-weight: bold\"> • </span>Training set: <span style=\"font-weight: bold\">2492 images</span> (80.0%)                                                                               \n",
       "<span style=\"color: #808000; text-decoration-color: #808000; font-weight: bold\"> • </span>Testing set: <span style=\"font-weight: bold\">623 images</span> (20.0%)                                                                                 \n",
       "<span style=\"color: #808000; text-decoration-color: #808000; font-weight: bold\"> • </span>Dataset location: <span style=\"color: #008080; text-decoration-color: #008080; background-color: #000000; font-weight: bold\">e:\\AgriBot\\Fruit-and-vegetable-image-recognition\\complete_fruit_veg_dataset</span>                   \n",
       "</pre>\n"
      ],
      "text/plain": [
       "\n",
       "                                                      \u001b[1;4mSummary\u001b[0m                                                      \n",
       "\n",
       "\u001b[1;33m • \u001b[0mThe dataset contains \u001b[1m36 classes\u001b[0m of fruits and vegetables                                                        \n",
       "\u001b[1;33m • \u001b[0mTotal of \u001b[1m3115 image files\u001b[0m across train and test splits                                                          \n",
       "\u001b[1;33m • \u001b[0mTraining set: \u001b[1m2492 images\u001b[0m (80.0%)                                                                               \n",
       "\u001b[1;33m • \u001b[0mTesting set: \u001b[1m623 images\u001b[0m (20.0%)                                                                                 \n",
       "\u001b[1;33m • \u001b[0mDataset location: \u001b[1;36;40me:\\AgriBot\\Fruit-and-vegetable-image-recognition\\complete_fruit_veg_dataset\u001b[0m                   \n"
      ]
     },
     "metadata": {},
     "output_type": "display_data"
    },
    {
     "data": {
      "image/png": "[encoded data removed]",
      "text/plain": [
       "<Figure size 1600x800 with 1 Axes>"
      ]
     },
     "metadata": {},
     "output_type": "display_data"
    }
   ],
   "source": [
    "console = Console()\n",
    "\n",
    "dataset_dir = os.path.join(os.getcwd(), \"complete_fruit_veg_dataset\")\n",
    "train_dir = os.path.join(dataset_dir, \"train\")\n",
    "test_dir = os.path.join(dataset_dir, \"test\")\n",
    "mapping_file = os.path.join(dataset_dir, \"label_mapping.txt\")\n",
    "\n",
    "class_names = {}\n",
    "if os.path.exists(mapping_file):\n",
    "    console.print(f\"[green]Reading class labels from {mapping_file}[/]\")\n",
    "    with open(mapping_file, 'r') as f:\n",
    "        for line in f:\n",
    "            line = line.strip()\n",
    "            if line:\n",
    "                parts = line.split(':')\n",
    "                if len(parts) == 2:\n",
    "                    class_id = parts[0].strip()\n",
    "                    class_name = parts[1].strip()\n",
    "                    class_names[class_id] = class_name\n",
    "else:\n",
    "    console.print(f\"[yellow]Warning: Label mapping file not found at {mapping_file}[/]\")\n",
    "\n",
    "def get_class_name(class_id):\n",
    "    if class_id in class_names:\n",
    "        return class_names[class_id]\n",
    "    else:\n",
    "        return f\"Class {class_id}\"\n",
    "\n",
    "total_files = 0\n",
    "total_classes = 0\n",
    "train_files = 0\n",
    "test_files = 0\n",
    "class_counts = {}\n",
    "class_file_sizes = {}\n",
    "\n",
    "console.print(\"[bold blue]Analyzing Dataset Structure...[/]\", justify=\"center\")\n",
    "console.print()\n",
    "\n",
    "def add_directory_to_tree(path, tree):\n",
    "    global total_files, total_classes\n",
    "    directories = []\n",
    "    files = []\n",
    "    \n",
    "    for item in os.listdir(path):\n",
    "        item_path = os.path.join(path, item)\n",
    "        if os.path.isdir(item_path):\n",
    "            directories.append(item)\n",
    "            if item.startswith(\"class_\"):\n",
    "                total_classes += 1\n",
    "        else:\n",
    "            files.append(item)\n",
    "            total_files += 1\n",
    "    \n",
    "    for dirname in sorted(directories):\n",
    "        dir_path = os.path.join(path, dirname)\n",
    "        dir_files = len([f for f in os.listdir(dir_path) if os.path.isfile(os.path.join(dir_path, f))])\n",
    "        \n",
    "        if dirname.startswith(\"class_\"):\n",
    "            class_id = dirname.split(\"_\")[1]\n",
    "            if class_id not in class_counts:\n",
    "                class_counts[class_id] = {\"train\": 0, \"test\": 0}\n",
    "            \n",
    "            if \"train\" in path:\n",
    "                class_counts[class_id][\"train\"] += dir_files\n",
    "            else:\n",
    "                class_counts[class_id][\"test\"] += dir_files\n",
    "            \n",
    "            # Use actual class name in the tree\n",
    "            class_display_name = get_class_name(class_id)\n",
    "            branch = tree.add(f\"📁 [bold cyan]{dirname} ({class_display_name})[/] ({dir_files} files)\")\n",
    "        else:\n",
    "            branch = tree.add(f\"📁 [bold cyan]{dirname}[/] ({dir_files} files)\")\n",
    "            \n",
    "        add_directory_to_tree(os.path.join(path, dirname), branch)\n",
    "    \n",
    "    if len(files) <= 10:\n",
    "        for filename in sorted(files):\n",
    "            tree.add(f\"📄 {filename}\")\n",
    "    else:\n",
    "        tree.add(f\"📄 ... ({len(files)} files)\")\n",
    "\n",
    "root = Tree(\"[bold green]📁 complete_fruit_veg_dataset[/]\")\n",
    "\n",
    "if os.path.exists(train_dir):\n",
    "    train_branch = root.add(\"[bold yellow]📁 train[/]\")\n",
    "    add_directory_to_tree(train_dir, train_branch)\n",
    "    train_files = sum(len(files) for _, _, files in os.walk(train_dir))\n",
    "\n",
    "if os.path.exists(test_dir):\n",
    "    test_branch = root.add(\"[bold yellow]📁 test[/]\")\n",
    "    add_directory_to_tree(test_dir, test_branch)\n",
    "    test_files = sum(len(files) for _, _, files in os.walk(test_dir))\n",
    "\n",
    "console.print(Panel(root))\n",
    "console.print()\n",
    "\n",
    "table = Table(title=\"Dataset Structure Summary\")\n",
    "table.add_column(\"Metric\", style=\"cyan\")\n",
    "table.add_column(\"Value\", style=\"green\")\n",
    "\n",
    "total_classes_found = len(class_counts)\n",
    "table.add_row(\"Total Classes\", str(total_classes_found))\n",
    "table.add_row(\"Total Files\", str(total_files))\n",
    "table.add_row(\"Training Files\", str(train_files))\n",
    "table.add_row(\"Testing Files\", str(test_files))\n",
    "table.add_row(\"Train/Test Split\", f\"{train_files/(train_files+test_files):.1%}/{test_files/(train_files+test_files):.1%}\")\n",
    "\n",
    "console.print(Panel(table))\n",
    "console.print()\n",
    "\n",
    "console.print(\"[bold blue]Class Distribution Analysis[/]\", justify=\"center\")\n",
    "console.print()\n",
    "\n",
    "class_table = Table(title=\"Class Distribution\")\n",
    "class_table.add_column(\"Class ID\", justify=\"right\", style=\"cyan\")\n",
    "class_table.add_column(\"Class Name\", style=\"green\")\n",
    "class_table.add_column(\"Training Samples\", justify=\"right\", style=\"yellow\")\n",
    "class_table.add_column(\"Testing Samples\", justify=\"right\", style=\"yellow\")\n",
    "class_table.add_column(\"Total\", justify=\"right\", style=\"magenta\")\n",
    "\n",
    "for class_id, counts in sorted(class_counts.items(), key=lambda x: int(x[0])):\n",
    "    train_count = counts[\"train\"]\n",
    "    test_count = counts[\"test\"]\n",
    "    total = train_count + test_count\n",
    "    class_name = get_class_name(class_id)\n",
    "    class_table.add_row(\n",
    "        f\"Class {class_id}\",\n",
    "        class_name,\n",
    "        str(train_count),\n",
    "        str(test_count),\n",
    "        str(total)\n",
    "    )\n",
    "\n",
    "console.print(Panel(class_table))\n",
    "console.print()\n",
    "\n",
    "df = pd.DataFrame({\n",
    "    'Class': [get_class_name(k) for k in class_counts.keys()],\n",
    "    'Class ID': [f\"Class {k}\" for k in class_counts.keys()],\n",
    "    'Training Samples': [v['train'] for v in class_counts.values()],\n",
    "    'Testing Samples': [v['test'] for v in class_counts.values()]\n",
    "})\n",
    "\n",
    "df_long = pd.melt(df, id_vars=['Class', 'Class ID'], var_name='Split', value_name='Count')\n",
    "\n",
    "plt.figure(figsize=(16, 8))\n",
    "sns.set_style(\"whitegrid\")\n",
    "ax = sns.barplot(x='Class', y='Count', hue='Split', data=df_long)\n",
    "plt.title('Distribution of Images Across Classes', fontsize=16)\n",
    "plt.xticks(rotation=90, fontsize=8)\n",
    "plt.tight_layout()\n",
    "plt.savefig(\"class_distribution_explorer.png\", bbox_inches='tight')\n",
    "\n",
    "console.print(f\"[green]Class distribution visualization saved as: class_distribution_explorer.png[/]\")\n",
    "console.print()\n",
    "\n",
    "console.rule(\"[bold blue]Dataset Overview Complete[/]\")\n",
    "console.print(Markdown(f\"\"\"\n",
    "## Summary\n",
    "- The dataset contains **{total_classes_found} classes** of fruits and vegetables\n",
    "- Total of **{total_files} image files** across train and test splits\n",
    "- Training set: **{train_files} images** ({train_files/(train_files+test_files):.1%})\n",
    "- Testing set: **{test_files} images** ({test_files/(train_files+test_files):.1%})\n",
    "- Dataset location: `{os.path.abspath(dataset_dir)}`\n",
    "\"\"\"))"
   ]
  },
  {
   "cell_type": "markdown",
   "id": "99ba438d",
   "metadata": {},
   "source": [
    "# **YOLO Directory Structure**"
   ]
  },
  {
   "cell_type": "code",
   "execution_count": 9,
   "id": "030bfa85",
   "metadata": {},
   "outputs": [
    {
     "data": {
      "text/html": [
       "<pre style=\"white-space:pre;overflow-x:auto;line-height:normal;font-family:Menlo,'DejaVu Sans Mono',consolas,'Courier New',monospace\"><span style=\"color: #000080; text-decoration-color: #000080; font-weight: bold\">Setting up YOLO dataset structure...</span>\n",
       "</pre>\n"
      ],
      "text/plain": [
       "\u001b[1;34mSetting up YOLO dataset structure\u001b[0m\u001b[1;34m...\u001b[0m\n"
      ]
     },
     "metadata": {},
     "output_type": "display_data"
    },
    {
     "data": {
      "text/html": [
       "<pre style=\"white-space:pre;overflow-x:auto;line-height:normal;font-family:Menlo,'DejaVu Sans Mono',consolas,'Courier New',monospace\"><span style=\"color: #008000; text-decoration-color: #008000; font-weight: bold\">✓ Directory structure created</span>\n",
       "</pre>\n"
      ],
      "text/plain": [
       "\u001b[1;32m✓ Directory structure created\u001b[0m\n"
      ]
     },
     "metadata": {},
     "output_type": "display_data"
    }
   ],
   "source": [
    "console = Console()\n",
    "console.print(\"[bold blue]Setting up YOLO dataset structure...[/]\")\n",
    "\n",
    "dataset_dir = os.path.join(os.getcwd(), \"complete_fruit_veg_dataset\")\n",
    "train_dir = os.path.join(dataset_dir, \"train\")\n",
    "test_dir = os.path.join(dataset_dir, \"test\")\n",
    "yolo_dir = os.path.join(os.getcwd(), \"yolo_dataset\")\n",
    "\n",
    "os.makedirs(os.path.join(yolo_dir, \"images\", \"train\"), exist_ok=True)\n",
    "os.makedirs(os.path.join(yolo_dir, \"images\", \"val\"), exist_ok=True)\n",
    "os.makedirs(os.path.join(yolo_dir, \"labels\", \"train\"), exist_ok=True)\n",
    "os.makedirs(os.path.join(yolo_dir, \"labels\", \"val\"), exist_ok=True)\n",
    "\n",
    "console.print(\"[bold green]✓ Directory structure created[/]\")"
   ]
  },
  {
   "cell_type": "markdown",
   "id": "2a194f0c",
   "metadata": {},
   "source": [
    "# **YOLO Annotations**"
   ]
  },
  {
   "cell_type": "code",
   "execution_count": 10,
   "id": "a34bd557",
   "metadata": {},
   "outputs": [
    {
     "data": {
      "text/html": [
       "<pre style=\"white-space:pre;overflow-x:auto;line-height:normal;font-family:Menlo,'DejaVu Sans Mono',consolas,'Courier New',monospace\"><span style=\"color: #008000; text-decoration-color: #008000\">Reading class labels from </span>\n",
       "<span style=\"color: #008000; text-decoration-color: #008000\">e:\\AgriBot\\Fruit-and-vegetable-image-recognition\\complete_fruit_veg_dataset\\label_mapping.txt</span>\n",
       "</pre>\n"
      ],
      "text/plain": [
       "\u001b[32mReading class labels from \u001b[0m\n",
       "\u001b[32me:\\AgriBot\\Fruit-and-vegetable-image-recognition\\complete_fruit_veg_dataset\\label_mapping.txt\u001b[0m\n"
      ]
     },
     "metadata": {},
     "output_type": "display_data"
    },
    {
     "data": {
      "text/html": [
       "<pre style=\"white-space:pre;overflow-x:auto;line-height:normal;font-family:Menlo,'DejaVu Sans Mono',consolas,'Courier New',monospace\"><span style=\"color: #008000; text-decoration-color: #008000; font-weight: bold\">✓ Created YOLO configuration file</span>\n",
       "</pre>\n"
      ],
      "text/plain": [
       "\u001b[1;32m✓ Created YOLO configuration file\u001b[0m\n"
      ]
     },
     "metadata": {},
     "output_type": "display_data"
    }
   ],
   "source": [
    "mapping_file = os.path.join(dataset_dir, \"label_mapping.txt\")\n",
    "class_names = {}\n",
    "class_indices = {}  # to remap class IDs to be sequential from 0\n",
    "\n",
    "if os.path.exists(mapping_file):\n",
    "    console.print(f\"[green]Reading class labels from {mapping_file}[/]\")\n",
    "    with open(mapping_file, 'r') as f:\n",
    "        for idx, line in enumerate(f):\n",
    "            line = line.strip()\n",
    "            if line:\n",
    "                parts = line.split(':')\n",
    "                if len(parts) == 2:\n",
    "                    orig_class_id = parts[0].strip()\n",
    "                    class_name = parts[1].strip()\n",
    "                    class_names[orig_class_id] = class_name\n",
    "                    class_indices[orig_class_id] = idx  # Remap to sequential indices\n",
    "else:\n",
    "    console.print(f\"[yellow]Warning: Label mapping file not found at {mapping_file}[/]\")\n",
    "\n",
    "with open(os.path.join(yolo_dir, \"data.yaml\"), 'w') as f:\n",
    "    f.write(f\"path: {os.path.abspath(yolo_dir)}\\n\")\n",
    "    f.write(f\"train: images/train\\n\")\n",
    "    f.write(f\"val: images/val\\n\")\n",
    "    f.write(f\"nc: {len(class_names)}\\n\")\n",
    "    \n",
    "    names_str = \"[\"\n",
    "    for i in range(len(class_names)):\n",
    "        for k, v in class_indices.items():\n",
    "            if v == i:\n",
    "                names_str += f\"'{class_names[k]}', \"\n",
    "                break\n",
    "    names_str = names_str.rstrip(', ') + \"]\"\n",
    "    f.write(f\"names: {names_str}\\n\")\n",
    "\n",
    "console.print(\"[bold green]✓ Created YOLO configuration file[/]\")"
   ]
  },
  {
   "cell_type": "markdown",
   "id": "df9c6452",
   "metadata": {},
   "source": [
    "# **Process Images and Create Bounding Boxes**"
   ]
  },
  {
   "cell_type": "code",
   "execution_count": 11,
   "id": "7806184b",
   "metadata": {},
   "outputs": [
    {
     "data": {
      "application/vnd.jupyter.widget-view+json": {
       "model_id": "b7319f436ab84a0895cf1453ea9d0c1f",
       "version_major": 2,
       "version_minor": 0
      },
      "text/plain": [
       "Output()"
      ]
     },
     "metadata": {},
     "output_type": "display_data"
    },
    {
     "data": {
      "text/html": [
       "<pre style=\"white-space:pre;overflow-x:auto;line-height:normal;font-family:Menlo,'DejaVu Sans Mono',consolas,'Courier New',monospace\"></pre>\n"
      ],
      "text/plain": []
     },
     "metadata": {},
     "output_type": "display_data"
    },
    {
     "data": {
      "text/html": [
       "<pre style=\"white-space:pre;overflow-x:auto;line-height:normal;font-family:Menlo,'DejaVu Sans Mono',consolas,'Courier New',monospace\"><span style=\"color: #008000; text-decoration-color: #008000; font-weight: bold\">✓ Dataset conversion complete!</span>\n",
       "</pre>\n"
      ],
      "text/plain": [
       "\u001b[1;32m✓ Dataset conversion complete!\u001b[0m\n"
      ]
     },
     "metadata": {},
     "output_type": "display_data"
    }
   ],
   "source": [
    "with Progress() as progress:\n",
    "    train_task = progress.add_task(\"[green]Processing training images...\", total=sum(len(files) for _, _, files in os.walk(train_dir)))\n",
    "    \n",
    "    for class_dir in os.listdir(train_dir):\n",
    "        if not class_dir.startswith(\"class_\"):\n",
    "            continue\n",
    "            \n",
    "        class_id = class_dir.split('_')[1]\n",
    "        yolo_class_id = class_indices.get(class_id, 0)  \n",
    "        \n",
    "        class_path = os.path.join(train_dir, class_dir)\n",
    "        \n",
    "        for img_file in os.listdir(class_path):\n",
    "            if not img_file.lower().endswith(('.jpg', '.jpeg', '.png')):\n",
    "                continue\n",
    "                \n",
    "            unique_name = f\"{class_id}_{img_file}\"\n",
    "            \n",
    "            src_img_path = os.path.join(class_path, img_file)\n",
    "            dst_img_path = os.path.join(yolo_dir, \"images\", \"train\", unique_name)\n",
    "            shutil.copy2(src_img_path, dst_img_path)\n",
    "            \n",
    "            # Generate YOLO annotation\n",
    "            # Format: <class_id> <center_x> <center_y> <width> <height>\n",
    "            # All values are normalized (0-1)\n",
    "            img = Image.open(src_img_path)\n",
    "            \n",
    "            # Create a bounding box covering ~80% of the image\n",
    "            # (centered, since I don't know where the object actually is 😅)\n",
    "            center_x = 0.5\n",
    "            center_y = 0.5\n",
    "            width = 0.8\n",
    "            height = 0.8\n",
    "            \n",
    "            label_filename = os.path.splitext(unique_name)[0] + \".txt\"\n",
    "            label_path = os.path.join(yolo_dir, \"labels\", \"train\", label_filename)\n",
    "            with open(label_path, 'w') as f:\n",
    "                f.write(f\"{yolo_class_id} {center_x} {center_y} {width} {height}\\n\")\n",
    "                \n",
    "            progress.update(train_task, advance=1)\n",
    "    \n",
    "    val_task = progress.add_task(\"[cyan]Processing validation images...\", total=sum(len(files) for _, _, files in os.walk(test_dir)))\n",
    "    \n",
    "    for class_dir in os.listdir(test_dir):\n",
    "        if not class_dir.startswith(\"class_\"):\n",
    "            continue\n",
    "            \n",
    "        class_id = class_dir.split('_')[1]\n",
    "        yolo_class_id = class_indices.get(class_id, 0)\n",
    "        \n",
    "        class_path = os.path.join(test_dir, class_dir)\n",
    "        \n",
    "        for img_file in os.listdir(class_path):\n",
    "            if not img_file.lower().endswith(('.jpg', '.jpeg', '.png')):\n",
    "                continue\n",
    "                \n",
    "            unique_name = f\"{class_id}_{img_file}\"\n",
    "            \n",
    "            src_img_path = os.path.join(class_path, img_file)\n",
    "            dst_img_path = os.path.join(yolo_dir, \"images\", \"val\", unique_name)\n",
    "            shutil.copy2(src_img_path, dst_img_path)\n",
    "            \n",
    "            img = Image.open(src_img_path)\n",
    "            \n",
    "            center_x = 0.5\n",
    "            center_y = 0.5\n",
    "            width = 0.8\n",
    "            height = 0.8\n",
    "            \n",
    "            label_filename = os.path.splitext(unique_name)[0] + \".txt\"\n",
    "            label_path = os.path.join(yolo_dir, \"labels\", \"val\", label_filename)\n",
    "            with open(label_path, 'w') as f:\n",
    "                f.write(f\"{yolo_class_id} {center_x} {center_y} {width} {height}\\n\")\n",
    "                \n",
    "            progress.update(val_task, advance=1)\n",
    "\n",
    "console.print(\"[bold green]✓ Dataset conversion complete![/]\")"
   ]
  },
  {
   "cell_type": "markdown",
   "id": "11eb72ad",
   "metadata": {},
   "source": [
    "# **Verify the Dataset**"
   ]
  },
  {
   "cell_type": "code",
   "execution_count": 12,
   "id": "cdb4eec1",
   "metadata": {},
   "outputs": [
    {
     "data": {
      "text/html": [
       "<pre style=\"white-space:pre;overflow-x:auto;line-height:normal;font-family:Menlo,'DejaVu Sans Mono',consolas,'Courier New',monospace\"><span style=\"font-weight: bold\">Dataset Statistics:</span>\n",
       "</pre>\n"
      ],
      "text/plain": [
       "\u001b[1mDataset Statistics:\u001b[0m\n"
      ]
     },
     "metadata": {},
     "output_type": "display_data"
    },
    {
     "data": {
      "text/html": [
       "<pre style=\"white-space:pre;overflow-x:auto;line-height:normal;font-family:Menlo,'DejaVu Sans Mono',consolas,'Courier New',monospace\">Training images: <span style=\"color: #008080; text-decoration-color: #008080; font-weight: bold\">2492</span>\n",
       "</pre>\n"
      ],
      "text/plain": [
       "Training images: \u001b[1;36m2492\u001b[0m\n"
      ]
     },
     "metadata": {},
     "output_type": "display_data"
    },
    {
     "data": {
      "text/html": [
       "<pre style=\"white-space:pre;overflow-x:auto;line-height:normal;font-family:Menlo,'DejaVu Sans Mono',consolas,'Courier New',monospace\">Training labels: <span style=\"color: #008080; text-decoration-color: #008080; font-weight: bold\">2492</span>\n",
       "</pre>\n"
      ],
      "text/plain": [
       "Training labels: \u001b[1;36m2492\u001b[0m\n"
      ]
     },
     "metadata": {},
     "output_type": "display_data"
    },
    {
     "data": {
      "text/html": [
       "<pre style=\"white-space:pre;overflow-x:auto;line-height:normal;font-family:Menlo,'DejaVu Sans Mono',consolas,'Courier New',monospace\">Validation images: <span style=\"color: #008080; text-decoration-color: #008080; font-weight: bold\">623</span>\n",
       "</pre>\n"
      ],
      "text/plain": [
       "Validation images: \u001b[1;36m623\u001b[0m\n"
      ]
     },
     "metadata": {},
     "output_type": "display_data"
    },
    {
     "data": {
      "text/html": [
       "<pre style=\"white-space:pre;overflow-x:auto;line-height:normal;font-family:Menlo,'DejaVu Sans Mono',consolas,'Courier New',monospace\">Validation labels: <span style=\"color: #008080; text-decoration-color: #008080; font-weight: bold\">623</span>\n",
       "</pre>\n"
      ],
      "text/plain": [
       "Validation labels: \u001b[1;36m623\u001b[0m\n"
      ]
     },
     "metadata": {},
     "output_type": "display_data"
    },
    {
     "data": {
      "text/html": [
       "<pre style=\"white-space:pre;overflow-x:auto;line-height:normal;font-family:Menlo,'DejaVu Sans Mono',consolas,'Courier New',monospace\">\n",
       "<span style=\"font-weight: bold\">Sample Annotations:</span>\n",
       "</pre>\n"
      ],
      "text/plain": [
       "\n",
       "\u001b[1mSample Annotations:\u001b[0m\n"
      ]
     },
     "metadata": {},
     "output_type": "display_data"
    },
    {
     "data": {
      "text/html": [
       "<pre style=\"white-space:pre;overflow-x:auto;line-height:normal;font-family:Menlo,'DejaVu Sans Mono',consolas,'Courier New',monospace\"><span style=\"color: #008080; text-decoration-color: #008080\">18_img_2409.txt:</span> <span style=\"color: #008080; text-decoration-color: #008080; font-weight: bold\">18</span> <span style=\"color: #008080; text-decoration-color: #008080; font-weight: bold\">0.5</span> <span style=\"color: #008080; text-decoration-color: #008080; font-weight: bold\">0.5</span> <span style=\"color: #008080; text-decoration-color: #008080; font-weight: bold\">0.8</span> <span style=\"color: #008080; text-decoration-color: #008080; font-weight: bold\">0.8</span>\n",
       "</pre>\n"
      ],
      "text/plain": [
       "\u001b[36m18_img_2409.txt:\u001b[0m \u001b[1;36m18\u001b[0m \u001b[1;36m0.5\u001b[0m \u001b[1;36m0.5\u001b[0m \u001b[1;36m0.8\u001b[0m \u001b[1;36m0.8\u001b[0m\n"
      ]
     },
     "metadata": {},
     "output_type": "display_data"
    },
    {
     "data": {
      "text/html": [
       "<pre style=\"white-space:pre;overflow-x:auto;line-height:normal;font-family:Menlo,'DejaVu Sans Mono',consolas,'Courier New',monospace\"><span style=\"color: #008080; text-decoration-color: #008080\">27_img_759.txt:</span> <span style=\"color: #008080; text-decoration-color: #008080; font-weight: bold\">27</span> <span style=\"color: #008080; text-decoration-color: #008080; font-weight: bold\">0.5</span> <span style=\"color: #008080; text-decoration-color: #008080; font-weight: bold\">0.5</span> <span style=\"color: #008080; text-decoration-color: #008080; font-weight: bold\">0.8</span> <span style=\"color: #008080; text-decoration-color: #008080; font-weight: bold\">0.8</span>\n",
       "</pre>\n"
      ],
      "text/plain": [
       "\u001b[36m27_img_759.txt:\u001b[0m \u001b[1;36m27\u001b[0m \u001b[1;36m0.5\u001b[0m \u001b[1;36m0.5\u001b[0m \u001b[1;36m0.8\u001b[0m \u001b[1;36m0.8\u001b[0m\n"
      ]
     },
     "metadata": {},
     "output_type": "display_data"
    },
    {
     "data": {
      "text/html": [
       "<pre style=\"white-space:pre;overflow-x:auto;line-height:normal;font-family:Menlo,'DejaVu Sans Mono',consolas,'Courier New',monospace\"><span style=\"color: #008080; text-decoration-color: #008080\">17_img_981.txt:</span> <span style=\"color: #008080; text-decoration-color: #008080; font-weight: bold\">17</span> <span style=\"color: #008080; text-decoration-color: #008080; font-weight: bold\">0.5</span> <span style=\"color: #008080; text-decoration-color: #008080; font-weight: bold\">0.5</span> <span style=\"color: #008080; text-decoration-color: #008080; font-weight: bold\">0.8</span> <span style=\"color: #008080; text-decoration-color: #008080; font-weight: bold\">0.8</span>\n",
       "</pre>\n"
      ],
      "text/plain": [
       "\u001b[36m17_img_981.txt:\u001b[0m \u001b[1;36m17\u001b[0m \u001b[1;36m0.5\u001b[0m \u001b[1;36m0.5\u001b[0m \u001b[1;36m0.8\u001b[0m \u001b[1;36m0.8\u001b[0m\n"
      ]
     },
     "metadata": {},
     "output_type": "display_data"
    }
   ],
   "source": [
    "train_images = len(os.listdir(os.path.join(yolo_dir, \"images\", \"train\")))\n",
    "train_labels = len(os.listdir(os.path.join(yolo_dir, \"labels\", \"train\")))\n",
    "val_images = len(os.listdir(os.path.join(yolo_dir, \"images\", \"val\")))\n",
    "val_labels = len(os.listdir(os.path.join(yolo_dir, \"labels\", \"val\")))\n",
    "\n",
    "console.print(f\"[bold]Dataset Statistics:[/]\")\n",
    "console.print(f\"Training images: {train_images}\")\n",
    "console.print(f\"Training labels: {train_labels}\")\n",
    "console.print(f\"Validation images: {val_images}\")\n",
    "console.print(f\"Validation labels: {val_labels}\")\n",
    "\n",
    "console.print(\"\\n[bold]Sample Annotations:[/]\")\n",
    "train_label_dir = os.path.join(yolo_dir, \"labels\", \"train\")\n",
    "sample_labels = random.sample(os.listdir(train_label_dir), min(3, len(os.listdir(train_label_dir))))\n",
    "\n",
    "for label_file in sample_labels:\n",
    "    with open(os.path.join(train_label_dir, label_file), 'r') as f:\n",
    "        content = f.read().strip()\n",
    "    console.print(f\"[cyan]{label_file}:[/] {content}\")"
   ]
  },
  {
   "cell_type": "code",
   "execution_count": 13,
   "id": "c647e032",
   "metadata": {},
   "outputs": [
    {
     "data": {
      "text/html": [
       "<pre style=\"white-space:pre;overflow-x:auto;line-height:normal;font-family:Menlo,'DejaVu Sans Mono',consolas,'Courier New',monospace\">╭───────────────────────────────────────────────── YOLO Training ─────────────────────────────────────────────────╮\n",
       "│ <span style=\"color: #000080; text-decoration-color: #000080; font-weight: bold\">YOLO Training Setup</span>                                                                                             │\n",
       "╰─────────────────────────────────────────────────────────────────────────────────────────────────────────────────╯\n",
       "</pre>\n"
      ],
      "text/plain": [
       "╭───────────────────────────────────────────────── YOLO Training ─────────────────────────────────────────────────╮\n",
       "│ \u001b[1;34mYOLO Training Setup\u001b[0m                                                                                             │\n",
       "╰─────────────────────────────────────────────────────────────────────────────────────────────────────────────────╯\n"
      ]
     },
     "metadata": {},
     "output_type": "display_data"
    },
    {
     "data": {
      "text/html": [
       "<pre style=\"white-space:pre;overflow-x:auto;line-height:normal;font-family:Menlo,'DejaVu Sans Mono',consolas,'Courier New',monospace\"><span style=\"color: #008000; text-decoration-color: #008000\">Using dataset configuration from:</span> e:\\AgriBot\\Fruit-and-vegetable-image-recognition\\yolo_dataset\\data.yaml\n",
       "</pre>\n"
      ],
      "text/plain": [
       "\u001b[32mUsing dataset configuration from:\u001b[0m e:\\AgriBot\\Fruit-and-vegetable-image-recognition\\yolo_dataset\\data.yaml\n"
      ]
     },
     "metadata": {},
     "output_type": "display_data"
    },
    {
     "data": {
      "text/html": [
       "<pre style=\"white-space:pre;overflow-x:auto;line-height:normal;font-family:Menlo,'DejaVu Sans Mono',consolas,'Courier New',monospace\"><span style=\"font-weight: bold\">Configuration File Contents:</span>\n",
       "path: e:\\AgriBot\\Fruit-and-vegetable-image-recognition\\yolo_dataset\n",
       "train: images/train\n",
       "val: images/val\n",
       "nc: <span style=\"color: #008080; text-decoration-color: #008080; font-weight: bold\">36</span>\n",
       "names: <span style=\"font-weight: bold\">[</span><span style=\"color: #008000; text-decoration-color: #008000\">'apple'</span>, <span style=\"color: #008000; text-decoration-color: #008000\">'banana'</span>, <span style=\"color: #008000; text-decoration-color: #008000\">'beetroot'</span>, <span style=\"color: #008000; text-decoration-color: #008000\">'bell pepper'</span>, <span style=\"color: #008000; text-decoration-color: #008000\">'cabbage'</span>, <span style=\"color: #008000; text-decoration-color: #008000\">'capsicum'</span>, <span style=\"color: #008000; text-decoration-color: #008000\">'carrot'</span>, <span style=\"color: #008000; text-decoration-color: #008000\">'cauliflower'</span>, <span style=\"color: #008000; text-decoration-color: #008000\">'chilli </span>\n",
       "<span style=\"color: #008000; text-decoration-color: #008000\">pepper'</span>, <span style=\"color: #008000; text-decoration-color: #008000\">'corn'</span>, <span style=\"color: #008000; text-decoration-color: #008000\">'cucumber'</span>, <span style=\"color: #008000; text-decoration-color: #008000\">'eggplant'</span>, <span style=\"color: #008000; text-decoration-color: #008000\">'garlic'</span>, <span style=\"color: #008000; text-decoration-color: #008000\">'ginger'</span>, <span style=\"color: #008000; text-decoration-color: #008000\">'grapes'</span>, <span style=\"color: #008000; text-decoration-color: #008000\">'jalepeno'</span>, <span style=\"color: #008000; text-decoration-color: #008000\">'kiwi'</span>, <span style=\"color: #008000; text-decoration-color: #008000\">'lemon'</span>, <span style=\"color: #008000; text-decoration-color: #008000\">'lettuce'</span>, \n",
       "<span style=\"color: #008000; text-decoration-color: #008000\">'mango'</span>, <span style=\"color: #008000; text-decoration-color: #008000\">'onion'</span>, <span style=\"color: #008000; text-decoration-color: #008000\">'orange'</span>, <span style=\"color: #008000; text-decoration-color: #008000\">'paprika'</span>, <span style=\"color: #008000; text-decoration-color: #008000\">'pear'</span>, <span style=\"color: #008000; text-decoration-color: #008000\">'peas'</span>, <span style=\"color: #008000; text-decoration-color: #008000\">'pineapple'</span>, <span style=\"color: #008000; text-decoration-color: #008000\">'pomegranate'</span>, <span style=\"color: #008000; text-decoration-color: #008000\">'potato'</span>, <span style=\"color: #008000; text-decoration-color: #008000\">'raddish'</span>, <span style=\"color: #008000; text-decoration-color: #008000\">'soy </span>\n",
       "<span style=\"color: #008000; text-decoration-color: #008000\">beans'</span>, <span style=\"color: #008000; text-decoration-color: #008000\">'spinach'</span>, <span style=\"color: #008000; text-decoration-color: #008000\">'sweetcorn'</span>, <span style=\"color: #008000; text-decoration-color: #008000\">'sweetpotato'</span>, <span style=\"color: #008000; text-decoration-color: #008000\">'tomato'</span>, <span style=\"color: #008000; text-decoration-color: #008000\">'turnip'</span>, <span style=\"color: #008000; text-decoration-color: #008000\">'watermelon'</span><span style=\"font-weight: bold\">]</span>\n",
       "\n",
       "</pre>\n"
      ],
      "text/plain": [
       "\u001b[1mConfiguration File Contents:\u001b[0m\n",
       "path: e:\\AgriBot\\Fruit-and-vegetable-image-recognition\\yolo_dataset\n",
       "train: images/train\n",
       "val: images/val\n",
       "nc: \u001b[1;36m36\u001b[0m\n",
       "names: \u001b[1m[\u001b[0m\u001b[32m'apple'\u001b[0m, \u001b[32m'banana'\u001b[0m, \u001b[32m'beetroot'\u001b[0m, \u001b[32m'bell pepper'\u001b[0m, \u001b[32m'cabbage'\u001b[0m, \u001b[32m'capsicum'\u001b[0m, \u001b[32m'carrot'\u001b[0m, \u001b[32m'cauliflower'\u001b[0m, \u001b[32m'chilli \u001b[0m\n",
       "\u001b[32mpepper'\u001b[0m, \u001b[32m'corn'\u001b[0m, \u001b[32m'cucumber'\u001b[0m, \u001b[32m'eggplant'\u001b[0m, \u001b[32m'garlic'\u001b[0m, \u001b[32m'ginger'\u001b[0m, \u001b[32m'grapes'\u001b[0m, \u001b[32m'jalepeno'\u001b[0m, \u001b[32m'kiwi'\u001b[0m, \u001b[32m'lemon'\u001b[0m, \u001b[32m'lettuce'\u001b[0m, \n",
       "\u001b[32m'mango'\u001b[0m, \u001b[32m'onion'\u001b[0m, \u001b[32m'orange'\u001b[0m, \u001b[32m'paprika'\u001b[0m, \u001b[32m'pear'\u001b[0m, \u001b[32m'peas'\u001b[0m, \u001b[32m'pineapple'\u001b[0m, \u001b[32m'pomegranate'\u001b[0m, \u001b[32m'potato'\u001b[0m, \u001b[32m'raddish'\u001b[0m, \u001b[32m'soy \u001b[0m\n",
       "\u001b[32mbeans'\u001b[0m, \u001b[32m'spinach'\u001b[0m, \u001b[32m'sweetcorn'\u001b[0m, \u001b[32m'sweetpotato'\u001b[0m, \u001b[32m'tomato'\u001b[0m, \u001b[32m'turnip'\u001b[0m, \u001b[32m'watermelon'\u001b[0m\u001b[1m]\u001b[0m\n",
       "\n"
      ]
     },
     "metadata": {},
     "output_type": "display_data"
    }
   ],
   "source": [
    "console = Console()\n",
    "console.print(Panel(\"[bold blue]YOLO Training Setup[/]\", title=\"YOLO Training\"))\n",
    "\n",
    "yaml_path = os.path.join(yolo_dir, \"data.yaml\")\n",
    "\n",
    "console.print(f\"[green]Using dataset configuration from:[/] {yaml_path}\")\n",
    "with open(yaml_path, 'r') as f:\n",
    "    yaml_content = f.read()\n",
    "console.print(f\"[bold]Configuration File Contents:[/]\\n{yaml_content}\")"
   ]
  },
  {
   "cell_type": "code",
   "execution_count": 14,
   "id": "42db01da",
   "metadata": {},
   "outputs": [
    {
     "data": {
      "text/html": [
       "<pre style=\"white-space:pre;overflow-x:auto;line-height:normal;font-family:Menlo,'DejaVu Sans Mono',consolas,'Courier New',monospace\"><span style=\"color: #008000; text-decoration-color: #008000; font-weight: bold\">CUDA Available: </span><span style=\"color: #008000; text-decoration-color: #008000; font-weight: bold; font-style: italic\">False</span>\n",
       "</pre>\n"
      ],
      "text/plain": [
       "\u001b[1;32mCUDA Available: \u001b[0m\u001b[1;3;32mFalse\u001b[0m\n"
      ]
     },
     "metadata": {},
     "output_type": "display_data"
    }
   ],
   "source": [
    "import torch\n",
    "console = Console()\n",
    "console.print(f\"[bold green]CUDA Available: {torch.cuda.is_available()}[/]\")\n",
    "if torch.cuda.is_available():\n",
    "    console.print(f\"[bold green]GPU Device: {torch.cuda.get_device_name(0)}[/]\")\n",
    "    console.print(f\"[bold green]Number of GPUs: {torch.cuda.device_count()}[/]\")"
   ]
  },
  {
   "cell_type": "code",
   "execution_count": null,
   "id": "5d2f0a2d",
   "metadata": {},
   "outputs": [
    {
     "data": {
      "text/html": [
       "<pre style=\"white-space:pre;overflow-x:auto;line-height:normal;font-family:Menlo,'DejaVu Sans Mono',consolas,'Courier New',monospace\"><span style=\"color: #000080; text-decoration-color: #000080; font-weight: bold\">Starting YOLO training...</span>\n",
       "</pre>\n"
      ],
      "text/plain": [
       "\u001b[1;34mStarting YOLO training\u001b[0m\u001b[1;34m...\u001b[0m\n"
      ]
     },
     "metadata": {},
     "output_type": "display_data"
    },
    {
     "data": {
      "text/html": [
       "<pre style=\"white-space:pre;overflow-x:auto;line-height:normal;font-family:Menlo,'DejaVu Sans Mono',consolas,'Courier New',monospace\"><span style=\"color: #808000; text-decoration-color: #808000\">This may take a while depending on your hardware.</span>\n",
       "</pre>\n"
      ],
      "text/plain": [
       "\u001b[33mThis may take a while depending on your hardware.\u001b[0m\n"
      ]
     },
     "metadata": {},
     "output_type": "display_data"
    },
    {
     "name": "stdout",
     "output_type": "stream",
     "text": [
      "Ultralytics 8.3.115  Python-3.11.9 torch-2.6.0+cpu CPU (11th Gen Intel Core(TM) i5-1135G7 2.40GHz)\n",
      "\u001b[34m\u001b[1mengine\\trainer: \u001b[0mtask=detect, mode=train, model=yolov8l.pt, data=e:\\AgriBot\\Fruit-and-vegetable-image-recognition\\yolo_dataset\\data.yaml, epochs=50, time=None, patience=15, batch=16, imgsz=640, save=True, save_period=-1, cache=False, device=, workers=8, project=None, name=fruit_veg_model, exist_ok=False, pretrained=True, optimizer=auto, verbose=True, seed=0, deterministic=True, single_cls=False, rect=False, cos_lr=False, close_mosaic=10, resume=False, amp=True, fraction=1.0, profile=False, freeze=None, multi_scale=False, overlap_mask=True, mask_ratio=4, dropout=0.0, val=True, split=val, save_json=False, conf=None, iou=0.7, max_det=300, half=False, dnn=False, plots=True, source=None, vid_stride=1, stream_buffer=False, visualize=False, augment=False, agnostic_nms=False, classes=None, retina_masks=False, embed=None, show=False, save_frames=False, save_txt=False, save_conf=False, save_crop=False, show_labels=True, show_conf=True, show_boxes=True, line_width=None, format=torchscript, keras=False, optimize=False, int8=False, dynamic=False, simplify=True, opset=None, workspace=None, nms=False, lr0=0.01, lrf=0.01, momentum=0.937, weight_decay=0.0005, warmup_epochs=3.0, warmup_momentum=0.8, warmup_bias_lr=0.1, box=7.5, cls=0.5, dfl=1.5, pose=12.0, kobj=1.0, nbs=64, hsv_h=0.015, hsv_s=0.7, hsv_v=0.4, degrees=0.0, translate=0.1, scale=0.5, shear=0.0, perspective=0.0, flipud=0.0, fliplr=0.5, bgr=0.0, mosaic=1.0, mixup=0.0, copy_paste=0.0, copy_paste_mode=flip, auto_augment=randaugment, erasing=0.4, cfg=None, tracker=botsort.yaml, save_dir=runs\\detect\\fruit_veg_model\n",
      "Overriding model.yaml nc=80 with nc=36\n",
      "\n",
      "                   from  n    params  module                                       arguments                     \n",
      "  0                  -1  1      1856  ultralytics.nn.modules.conv.Conv             [3, 64, 3, 2]                 \n",
      "  1                  -1  1     73984  ultralytics.nn.modules.conv.Conv             [64, 128, 3, 2]               \n",
      "  2                  -1  3    279808  ultralytics.nn.modules.block.C2f             [128, 128, 3, True]           \n",
      "  3                  -1  1    295424  ultralytics.nn.modules.conv.Conv             [128, 256, 3, 2]              \n",
      "  4                  -1  6   2101248  ultralytics.nn.modules.block.C2f             [256, 256, 6, True]           \n",
      "  5                  -1  1   1180672  ultralytics.nn.modules.conv.Conv             [256, 512, 3, 2]              \n",
      "  6                  -1  6   8396800  ultralytics.nn.modules.block.C2f             [512, 512, 6, True]           \n",
      "  7                  -1  1   2360320  ultralytics.nn.modules.conv.Conv             [512, 512, 3, 2]              \n",
      "  8                  -1  3   4461568  ultralytics.nn.modules.block.C2f             [512, 512, 3, True]           \n",
      "  9                  -1  1    656896  ultralytics.nn.modules.block.SPPF            [512, 512, 5]                 \n",
      " 10                  -1  1         0  torch.nn.modules.upsampling.Upsample         [None, 2, 'nearest']          \n",
      " 11             [-1, 6]  1         0  ultralytics.nn.modules.conv.Concat           [1]                           \n",
      " 12                  -1  3   4723712  ultralytics.nn.modules.block.C2f             [1024, 512, 3]                \n",
      " 13                  -1  1         0  torch.nn.modules.upsampling.Upsample         [None, 2, 'nearest']          \n",
      " 14             [-1, 4]  1         0  ultralytics.nn.modules.conv.Concat           [1]                           \n",
      " 15                  -1  3   1247744  ultralytics.nn.modules.block.C2f             [768, 256, 3]                 \n",
      " 16                  -1  1    590336  ultralytics.nn.modules.conv.Conv             [256, 256, 3, 2]              \n",
      " 17            [-1, 12]  1         0  ultralytics.nn.modules.conv.Concat           [1]                           \n",
      " 18                  -1  3   4592640  ultralytics.nn.modules.block.C2f             [768, 512, 3]                 \n",
      " 19                  -1  1   2360320  ultralytics.nn.modules.conv.Conv             [512, 512, 3, 2]              \n",
      " 20             [-1, 9]  1         0  ultralytics.nn.modules.conv.Concat           [1]                           \n",
      " 21                  -1  3   4723712  ultralytics.nn.modules.block.C2f             [1024, 512, 3]                \n",
      " 22        [15, 18, 21]  1   5610556  ultralytics.nn.modules.head.Detect           [36, [256, 512, 512]]         \n",
      "Model summary: 209 layers, 43,657,596 parameters, 43,657,580 gradients, 165.6 GFLOPs\n",
      "\n",
      "Transferred 589/595 items from pretrained weights\n",
      "Freezing layer 'model.22.dfl.conv.weight'\n",
      "\u001b[34m\u001b[1mtrain: \u001b[0mFast image access  (ping: 0.20.0 ms, read: 13.519.4 MB/s, size: 183.2 KB)\n"
     ]
    },
    {
     "name": "stderr",
     "output_type": "stream",
     "text": [
      "\u001b[34m\u001b[1mtrain: \u001b[0mScanning E:\\AgriBot\\Fruit-and-vegetable-image-recognition\\yolo_dataset\\labels\\train.cache... 2492 images, 0 backgrounds, 0 corrupt: 100%|██████████| 2492/2492 [00:00<?, ?it/s]"
     ]
    },
    {
     "name": "stdout",
     "output_type": "stream",
     "text": [
      "\u001b[34m\u001b[1mval: \u001b[0mFast image access  (ping: 0.10.0 ms, read: 8.811.4 MB/s, size: 113.4 KB)\n"
     ]
    },
    {
     "name": "stderr",
     "output_type": "stream",
     "text": [
      "\n",
      "\u001b[34m\u001b[1mval: \u001b[0mScanning E:\\AgriBot\\Fruit-and-vegetable-image-recognition\\yolo_dataset\\labels\\val.cache... 623 images, 0 backgrounds, 0 corrupt: 100%|██████████| 623/623 [00:00<?, ?it/s]\n"
     ]
    },
    {
     "name": "stdout",
     "output_type": "stream",
     "text": [
      "Plotting labels to runs\\detect\\fruit_veg_model\\labels.jpg... \n",
      "\u001b[34m\u001b[1moptimizer:\u001b[0m 'optimizer=auto' found, ignoring 'lr0=0.01' and 'momentum=0.937' and determining best 'optimizer', 'lr0' and 'momentum' automatically... \n",
      "\u001b[34m\u001b[1moptimizer:\u001b[0m AdamW(lr=0.00025, momentum=0.9) with parameter groups 97 weight(decay=0.0), 104 weight(decay=0.0005), 103 bias(decay=0.0)\n",
      "Image sizes 640 train, 640 val\n",
      "Using 0 dataloader workers\n",
      "Logging results to \u001b[1mruns\\detect\\fruit_veg_model\u001b[0m\n",
      "Starting training for 50 epochs...\n",
      "\n",
      "      Epoch    GPU_mem   box_loss   cls_loss   dfl_loss  Instances       Size\n"
     ]
    },
    {
     "name": "stderr",
     "output_type": "stream",
     "text": [
      "       1/50         0G      1.592      4.341       2.18         45        640:  25%|██▌       | 39/156 [42:55<2:18:19, 70.94s/it]"
     ]
    }
   ],
   "source": [
    "model = YOLO('yolov8l.pt') \n",
    "# yolov8n.pt - Nano (smallest, fastest)\n",
    "# yolov8s.pt - Small\n",
    "# yolov8m.pt - Medium\n",
    "# yolov8l.pt - Large\n",
    "# yolov8x.pt - Extra Large (largest, most accurate) \n",
    "\n",
    "console.print(\"[bold blue]Starting YOLO training...[/]\")\n",
    "console.print(\"[yellow]This may take a while depending on your hardware.[/]\")\n",
    "\n",
    "results = model.train(\n",
    "    data=yaml_path,          # Path to dataset config\n",
    "    epochs=50,               # Number of epochs\n",
    "    imgsz=640,               # Image size\n",
    "    batch=16,                # Batch size - reduce if you encounter memory issues\n",
    "    patience=15,             # Early stopping patience\n",
    "    name='fruit_veg_model',  # Project name\n",
    "    verbose=True,            # Display training progress\n",
    "    device='',               # Auto-select device (GPU if available)\n",
    "    plots=True               # Generate training plots\n",
    ")\n",
    "\n",
    "console.print(\"[bold green]✓ Training complete![/]\")"
   ]
  },
  {
   "cell_type": "code",
   "execution_count": null,
   "id": "f615a2cf",
   "metadata": {},
   "outputs": [],
   "source": []
  }
 ],
 "metadata": {
  "kernelspec": {
   "display_name": "Python 3",
   "language": "python",
   "name": "python3"
  },
  "language_info": {
   "codemirror_mode": {
    "name": "ipython",
    "version": 3
   },
   "file_extension": ".py",
   "mimetype": "text/x-python",
   "name": "python",
   "nbconvert_exporter": "python",
   "pygments_lexer": "ipython3",
   "version": "3.11.9"
  }
 },
 "nbformat": 4,
 "nbformat_minor": 5
}
